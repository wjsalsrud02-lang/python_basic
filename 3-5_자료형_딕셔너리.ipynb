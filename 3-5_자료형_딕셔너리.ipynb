{
 "cells": [
  {
   "cell_type": "markdown",
   "id": "a94ea732-1721-417a-b2c7-67bd1444882a",
   "metadata": {},
   "source": [
    "### 2. 딕셔너리는 어떻게 만들까?"
   ]
  },
  {
   "cell_type": "code",
   "execution_count": 2,
   "id": "7ad9bfea-3fdc-415c-b720-79866b475507",
   "metadata": {},
   "outputs": [
    {
     "data": {
      "text/plain": [
       "dict"
      ]
     },
     "execution_count": 2,
     "metadata": {},
     "output_type": "execute_result"
    }
   ],
   "source": [
    "dic={'name':'전민경','phone':'010-2767-0765','birth':'0313'}\n",
    "type(dic)"
   ]
  },
  {
   "cell_type": "code",
   "execution_count": 3,
   "id": "dfac485c-f9ce-4b68-b5c6-16742462181c",
   "metadata": {},
   "outputs": [
    {
     "data": {
      "text/plain": [
       "'전민경'"
      ]
     },
     "execution_count": 3,
     "metadata": {},
     "output_type": "execute_result"
    }
   ],
   "source": [
    "dic['name']"
   ]
  },
  {
   "cell_type": "code",
   "execution_count": 4,
   "id": "0b24dede-ca21-4dff-a6a2-eb4c78fa5380",
   "metadata": {},
   "outputs": [
    {
     "data": {
      "text/plain": [
       "'010-2767-0765'"
      ]
     },
     "execution_count": 4,
     "metadata": {},
     "output_type": "execute_result"
    }
   ],
   "source": [
    "dic['phone']"
   ]
  },
  {
   "cell_type": "code",
   "execution_count": 5,
   "id": "f3ab6f43-1d35-447c-9660-122e54ded152",
   "metadata": {},
   "outputs": [
    {
     "data": {
      "text/plain": [
       "'0313'"
      ]
     },
     "execution_count": 5,
     "metadata": {},
     "output_type": "execute_result"
    }
   ],
   "source": [
    "dic['birth']"
   ]
  },
  {
   "cell_type": "code",
   "execution_count": 6,
   "id": "70c47403-8dcd-44c2-a2e8-35b1323dec68",
   "metadata": {},
   "outputs": [
    {
     "data": {
      "text/plain": [
       "{'a': [1, 2, 3]}"
      ]
     },
     "execution_count": 6,
     "metadata": {},
     "output_type": "execute_result"
    }
   ],
   "source": [
    "a={'a':[1,2,3]}\n",
    "a"
   ]
  },
  {
   "cell_type": "markdown",
   "id": "19a1dd74-8ec0-4e43-93fe-6534dc8cc5f1",
   "metadata": {},
   "source": [
    "### 3. 딕셔너리 쌍 추가, 삭제하기"
   ]
  },
  {
   "cell_type": "code",
   "execution_count": 7,
   "id": "e3a8d9e8-5948-489f-b0a2-abadc94ec33a",
   "metadata": {},
   "outputs": [
    {
     "data": {
      "text/plain": [
       "{1: 'a', 2: 'b'}"
      ]
     },
     "execution_count": 7,
     "metadata": {},
     "output_type": "execute_result"
    }
   ],
   "source": [
    "a= {1:'a'}\n",
    "a[2] = 'b'\n",
    "a"
   ]
  },
  {
   "cell_type": "code",
   "execution_count": 8,
   "id": "0064f7d6-68ed-4dce-b28b-2e3c62f64410",
   "metadata": {},
   "outputs": [
    {
     "data": {
      "text/plain": [
       "{1: 'a', 2: 'b', 'name': '전민경'}"
      ]
     },
     "execution_count": 8,
     "metadata": {},
     "output_type": "execute_result"
    }
   ],
   "source": [
    "a['name']='전민경'\n",
    "a"
   ]
  },
  {
   "cell_type": "code",
   "execution_count": 9,
   "id": "0a36377c-468c-4965-8c20-d0d206f7dd9d",
   "metadata": {},
   "outputs": [
    {
     "data": {
      "text/plain": [
       "{1: 'a', 2: 'b', 'name': '전민경', 3: [1, 2, 3]}"
      ]
     },
     "execution_count": 9,
     "metadata": {},
     "output_type": "execute_result"
    }
   ],
   "source": [
    "a[3]=[1,2,3]\n",
    "a"
   ]
  },
  {
   "cell_type": "code",
   "execution_count": 10,
   "id": "0fcaccc5-1cb6-4931-ac54-4c7ce866a979",
   "metadata": {},
   "outputs": [
    {
     "data": {
      "text/plain": [
       "{1: 'a',\n",
       " 2: 'b',\n",
       " 'name': '전민경',\n",
       " 3: [1, 2, 3],\n",
       " 'hobby': {'a': [1, 2, 3], 'b': 'sport'}}"
      ]
     },
     "execution_count": 10,
     "metadata": {},
     "output_type": "execute_result"
    }
   ],
   "source": [
    "a['hobby']={'a': [1,2,3],'b':'sport'}\n",
    "a"
   ]
  },
  {
   "cell_type": "code",
   "execution_count": 12,
   "id": "283d8667-8832-4bc3-af47-db8d4e61b4f6",
   "metadata": {},
   "outputs": [
    {
     "data": {
      "text/plain": [
       "{1: 'a', 2: 'b', 'name': '전민경', 3: [1, 2, 3]}"
      ]
     },
     "execution_count": 12,
     "metadata": {},
     "output_type": "execute_result"
    }
   ],
   "source": [
    "del a ['hobby']\n",
    "a"
   ]
  },
  {
   "cell_type": "code",
   "execution_count": 13,
   "id": "993487f5-4aa4-4b2c-9205-9d17e0b45a76",
   "metadata": {},
   "outputs": [
    {
     "data": {
      "text/plain": [
       "{1: 'a', 'name': '전민경', 3: [1, 2, 3]}"
      ]
     },
     "execution_count": 13,
     "metadata": {},
     "output_type": "execute_result"
    }
   ],
   "source": [
    "del a[2]\n",
    "a"
   ]
  },
  {
   "cell_type": "markdown",
   "id": "2811b790-aa2a-44ce-879d-f0fa1b01c6ec",
   "metadata": {},
   "source": [
    "### 4.딕셔너리를 사용하는 방법"
   ]
  },
  {
   "cell_type": "code",
   "execution_count": 14,
   "id": "e3c789fa-f67e-44e9-ba22-ec5751baf924",
   "metadata": {},
   "outputs": [
    {
     "name": "stdout",
     "output_type": "stream",
     "text": [
      "10\n",
      "99\n"
     ]
    }
   ],
   "source": [
    "grade = {'pey': 10, 'julliet': 99}\n",
    "print(grade['pey'])\n",
    "print(grade['julliet'])"
   ]
  },
  {
   "cell_type": "code",
   "execution_count": 15,
   "id": "1f07eac9-5b6b-4a89-8ff3-c353de6a9bc0",
   "metadata": {},
   "outputs": [
    {
     "data": {
      "text/plain": [
       "'a'"
      ]
     },
     "execution_count": 15,
     "metadata": {},
     "output_type": "execute_result"
    }
   ],
   "source": [
    "a={1:'a',2:'b'}\n",
    "a[1]"
   ]
  },
  {
   "cell_type": "code",
   "execution_count": 18,
   "id": "aec363ef-1d7f-4c27-b1a2-a271c28a2169",
   "metadata": {},
   "outputs": [
    {
     "data": {
      "text/plain": [
       "{1: 'b'}"
      ]
     },
     "execution_count": 18,
     "metadata": {},
     "output_type": "execute_result"
    }
   ],
   "source": [
    "# 딕셔너리 만들 때 주의 사항(키는 중복 불가능)\n",
    "a={1:'a',1:'b'}\n",
    "a"
   ]
  },
  {
   "cell_type": "code",
   "execution_count": 19,
   "id": "b7bde047-663f-422a-a4dc-b3c136dc8058",
   "metadata": {},
   "outputs": [
    {
     "ename": "TypeError",
     "evalue": "unhashable type: 'list'",
     "output_type": "error",
     "traceback": [
      "\u001b[1;31m---------------------------------------------------------------------------\u001b[0m",
      "\u001b[1;31mTypeError\u001b[0m                                 Traceback (most recent call last)",
      "Cell \u001b[1;32mIn[19], line 2\u001b[0m\n\u001b[0;32m      1\u001b[0m \u001b[38;5;66;03m#키는 리스트 사용 불가(숫자, 문자열 가능)\u001b[39;00m\n\u001b[1;32m----> 2\u001b[0m a\u001b[38;5;241m=\u001b[39m{[\u001b[38;5;241m1\u001b[39m,\u001b[38;5;241m2\u001b[39m]:\u001b[38;5;124m'\u001b[39m\u001b[38;5;124mhi\u001b[39m\u001b[38;5;124m'\u001b[39m}\n\u001b[0;32m      3\u001b[0m a\n",
      "\u001b[1;31mTypeError\u001b[0m: unhashable type: 'list'"
     ]
    }
   ],
   "source": [
    "#키는 리스트 사용 불가(숫자, 문자열 가능)\n",
    "a={[1,2]:'hi'}\n",
    "a"
   ]
  },
  {
   "cell_type": "markdown",
   "id": "0726568a-4b3e-4bbe-8794-78a25a9388dd",
   "metadata": {},
   "source": [
    "### 5.딕셔너리 관련 함수"
   ]
  },
  {
   "cell_type": "code",
   "execution_count": 20,
   "id": "cc45c926-6052-427b-a805-de9cbae8bbbf",
   "metadata": {},
   "outputs": [
    {
     "data": {
      "text/plain": [
       "dict_keys(['name', 'phone', 'birth'])"
      ]
     },
     "execution_count": 20,
     "metadata": {},
     "output_type": "execute_result"
    }
   ],
   "source": [
    "#keys() : key 리스트 만들기\n",
    "dic={'name':'전민경','phone':'010-2767-0765','birth':'0313'}\n",
    "dic.keys()"
   ]
  },
  {
   "cell_type": "code",
   "execution_count": 22,
   "id": "e816593d-5ac1-4f52-83d3-7cf4e82e2856",
   "metadata": {},
   "outputs": [
    {
     "data": {
      "text/plain": [
       "dict_values(['전민경', '010-2767-0765', '0313'])"
      ]
     },
     "execution_count": 22,
     "metadata": {},
     "output_type": "execute_result"
    }
   ],
   "source": [
    "#values() : value 리스트 만들기\n",
    "dic.values()"
   ]
  },
  {
   "cell_type": "code",
   "execution_count": 24,
   "id": "18a978e9-69e6-4935-9d0b-50c804e20ce5",
   "metadata": {},
   "outputs": [
    {
     "name": "stdout",
     "output_type": "stream",
     "text": [
      "name\n",
      "phone\n",
      "birth\n"
     ]
    }
   ],
   "source": [
    "for k in dic.keys():\n",
    "    print(k)"
   ]
  },
  {
   "cell_type": "code",
   "execution_count": 25,
   "id": "624b00b0-524c-4dc7-9026-635fdd160020",
   "metadata": {},
   "outputs": [
    {
     "name": "stdout",
     "output_type": "stream",
     "text": [
      "전민경\n",
      "010-2767-0765\n",
      "0313\n"
     ]
    }
   ],
   "source": [
    "for k in dic.values():\n",
    "    print(k)"
   ]
  },
  {
   "cell_type": "code",
   "execution_count": 26,
   "id": "f08090c6-1544-4ecf-811b-0979720156c2",
   "metadata": {},
   "outputs": [
    {
     "data": {
      "text/plain": [
       "dict_items([('name', '전민경'), ('phone', '010-2767-0765'), ('birth', '0313')])"
      ]
     },
     "execution_count": 26,
     "metadata": {},
     "output_type": "execute_result"
    }
   ],
   "source": [
    "# items() key, value 쌍 얻기\n",
    "dic.items()"
   ]
  },
  {
   "cell_type": "code",
   "execution_count": 58,
   "id": "45745704-51fc-4489-9aa8-bf6b90a1b1a7",
   "metadata": {},
   "outputs": [
    {
     "data": {
      "text/plain": [
       "{}"
      ]
     },
     "execution_count": 58,
     "metadata": {},
     "output_type": "execute_result"
    }
   ],
   "source": [
    "# clear() 딕셔너리 아이템들 모두 지우기\n",
    "dic.clear()\n",
    "dic"
   ]
  },
  {
   "cell_type": "code",
   "execution_count": 59,
   "id": "9129f38a-e08d-4168-8c4c-02dc0d02147a",
   "metadata": {},
   "outputs": [
    {
     "data": {
      "text/plain": [
       "{'name': '전민경'}"
      ]
     },
     "execution_count": 59,
     "metadata": {},
     "output_type": "execute_result"
    }
   ],
   "source": [
    "dic['name']='전민경'\n",
    "dic"
   ]
  },
  {
   "cell_type": "code",
   "execution_count": 60,
   "id": "316ba7a2-6d32-424c-9409-0c7dac50f62e",
   "metadata": {},
   "outputs": [
    {
     "name": "stdout",
     "output_type": "stream",
     "text": [
      "내 이름은 전민경\n"
     ]
    }
   ],
   "source": [
    "print(f\"내 이름은 {dic['name']}\")"
   ]
  },
  {
   "cell_type": "code",
   "execution_count": 61,
   "id": "3d00ef97-7314-4d54-bb6d-ed0d2a4c6d88",
   "metadata": {},
   "outputs": [
    {
     "ename": "KeyError",
     "evalue": "'phone'",
     "output_type": "error",
     "traceback": [
      "\u001b[1;31m---------------------------------------------------------------------------\u001b[0m",
      "\u001b[1;31mKeyError\u001b[0m                                  Traceback (most recent call last)",
      "Cell \u001b[1;32mIn[61], line 1\u001b[0m\n\u001b[1;32m----> 1\u001b[0m \u001b[38;5;28mprint\u001b[39m(\u001b[38;5;124mf\u001b[39m\u001b[38;5;124m\"\u001b[39m\u001b[38;5;124m내 전화번호는 \u001b[39m\u001b[38;5;132;01m{\u001b[39;00mdic[\u001b[38;5;124m'\u001b[39m\u001b[38;5;124mphone\u001b[39m\u001b[38;5;124m'\u001b[39m]\u001b[38;5;132;01m}\u001b[39;00m\u001b[38;5;124m입니다.\u001b[39m\u001b[38;5;124m\"\u001b[39m)\n",
      "\u001b[1;31mKeyError\u001b[0m: 'phone'"
     ]
    }
   ],
   "source": [
    "print(f\"내 전화번호는 {dic['phone']}입니다.\")"
   ]
  },
  {
   "cell_type": "code",
   "execution_count": 62,
   "id": "b5cad4eb-2869-47c8-b1cc-b21d4e9be4cf",
   "metadata": {},
   "outputs": [],
   "source": [
    "# get() key로 vlaue 얻기\n",
    "dic.get('birth')"
   ]
  },
  {
   "cell_type": "code",
   "execution_count": 63,
   "id": "e6eccbaf-5920-45d6-b652-8e118f92b102",
   "metadata": {},
   "outputs": [
    {
     "data": {
      "text/plain": [
       "'전민경'"
      ]
     },
     "execution_count": 63,
     "metadata": {},
     "output_type": "execute_result"
    }
   ],
   "source": [
    "dic.get('name')"
   ]
  },
  {
   "cell_type": "code",
   "execution_count": 64,
   "id": "b16b41cb-ef39-4228-b8d3-02fac6566647",
   "metadata": {},
   "outputs": [],
   "source": [
    "dic.get('phone')"
   ]
  },
  {
   "cell_type": "code",
   "execution_count": 65,
   "id": "82b7318c-beeb-4bdc-9b1e-734d89eb47a4",
   "metadata": {},
   "outputs": [
    {
     "name": "stdout",
     "output_type": "stream",
     "text": [
      "None\n"
     ]
    }
   ],
   "source": [
    "print(dic.get('age'))"
   ]
  },
  {
   "cell_type": "code",
   "execution_count": 66,
   "id": "8956e7b0-cc06-4ec6-a459-620575ceeca9",
   "metadata": {},
   "outputs": [
    {
     "ename": "KeyError",
     "evalue": "'age'",
     "output_type": "error",
     "traceback": [
      "\u001b[1;31m---------------------------------------------------------------------------\u001b[0m",
      "\u001b[1;31mKeyError\u001b[0m                                  Traceback (most recent call last)",
      "Cell \u001b[1;32mIn[66], line 1\u001b[0m\n\u001b[1;32m----> 1\u001b[0m \u001b[38;5;28mprint\u001b[39m(a[\u001b[38;5;124m'\u001b[39m\u001b[38;5;124mage\u001b[39m\u001b[38;5;124m'\u001b[39m])\n",
      "\u001b[1;31mKeyError\u001b[0m: 'age'"
     ]
    }
   ],
   "source": [
    "print(a['age'])"
   ]
  },
  {
   "cell_type": "code",
   "execution_count": 67,
   "id": "3d509193-ba9f-42fb-94bf-7bb06cd2235e",
   "metadata": {},
   "outputs": [
    {
     "data": {
      "text/plain": [
       "24"
      ]
     },
     "execution_count": 67,
     "metadata": {},
     "output_type": "execute_result"
    }
   ],
   "source": [
    "dic.get('age',24)"
   ]
  },
  {
   "cell_type": "code",
   "execution_count": 68,
   "id": "008de68c-d03c-464e-9a12-f1b93c4cfc1b",
   "metadata": {},
   "outputs": [
    {
     "data": {
      "text/plain": [
       "{'name': '전민경'}"
      ]
     },
     "execution_count": 68,
     "metadata": {},
     "output_type": "execute_result"
    }
   ],
   "source": [
    "dic"
   ]
  },
  {
   "cell_type": "code",
   "execution_count": 69,
   "id": "4e379bee-a6bd-4466-80d3-5a98bdab1bb4",
   "metadata": {},
   "outputs": [
    {
     "data": {
      "text/plain": [
       "{'age': 24}"
      ]
     },
     "execution_count": 69,
     "metadata": {},
     "output_type": "execute_result"
    }
   ],
   "source": [
    "dic={'age':24}\n",
    "dic"
   ]
  },
  {
   "cell_type": "code",
   "execution_count": 70,
   "id": "f15b05e5-2a60-45b1-aa8f-1c62085640d8",
   "metadata": {},
   "outputs": [
    {
     "data": {
      "text/plain": [
       "{'age': 24}"
      ]
     },
     "execution_count": 70,
     "metadata": {},
     "output_type": "execute_result"
    }
   ],
   "source": [
    "dic"
   ]
  },
  {
   "cell_type": "code",
   "execution_count": 71,
   "id": "e065c756-4e5d-4984-95e1-935fe761aa18",
   "metadata": {},
   "outputs": [
    {
     "data": {
      "text/plain": [
       "{'name': '전민경', 'phone': '010-2767-0765', 'birth': '0313', 'age': 24}"
      ]
     },
     "execution_count": 71,
     "metadata": {},
     "output_type": "execute_result"
    }
   ],
   "source": [
    "dic={'name':'전민경','phone':'010-2767-0765','birth':'0313','age':24}\n",
    "dic"
   ]
  },
  {
   "cell_type": "code",
   "execution_count": 72,
   "id": "e99c7917-2f36-423e-a76d-35e7773378a3",
   "metadata": {},
   "outputs": [
    {
     "data": {
      "text/plain": [
       "True"
      ]
     },
     "execution_count": 72,
     "metadata": {},
     "output_type": "execute_result"
    }
   ],
   "source": [
    "# in key : key가 딕셔너리 안에 있는지 확인 여부\n",
    "'name' in dic"
   ]
  },
  {
   "cell_type": "code",
   "execution_count": 73,
   "id": "4a4beb27-2076-46a3-ba86-752803d6d22c",
   "metadata": {},
   "outputs": [
    {
     "data": {
      "text/plain": [
       "False"
      ]
     },
     "execution_count": 73,
     "metadata": {},
     "output_type": "execute_result"
    }
   ],
   "source": [
    "'email' in dic"
   ]
  }
 ],
 "metadata": {
  "kernelspec": {
   "display_name": "Python 3 (ipykernel)",
   "language": "python",
   "name": "python3"
  },
  "language_info": {
   "codemirror_mode": {
    "name": "ipython",
    "version": 3
   },
   "file_extension": ".py",
   "mimetype": "text/x-python",
   "name": "python",
   "nbconvert_exporter": "python",
   "pygments_lexer": "ipython3",
   "version": "3.13.5"
  }
 },
 "nbformat": 4,
 "nbformat_minor": 5
}
