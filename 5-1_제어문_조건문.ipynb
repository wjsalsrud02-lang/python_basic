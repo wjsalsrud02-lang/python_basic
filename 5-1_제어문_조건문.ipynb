{
 "cells": [
  {
   "cell_type": "markdown",
   "id": "661f2825-a2ac-4ac0-8c88-77cedcb1e943",
   "metadata": {},
   "source": [
    "### 1. if문 기본 구조"
   ]
  },
  {
   "cell_type": "code",
   "execution_count": 1,
   "id": "267ab2ee-69a9-4734-a2b7-7a4a56cc3ccb",
   "metadata": {},
   "outputs": [
    {
     "ename": "IndentationError",
     "evalue": "unexpected indent (1841204671.py, line 5)",
     "output_type": "error",
     "traceback": [
      "\u001b[1;36m  Cell \u001b[1;32mIn[1], line 5\u001b[1;36m\u001b[0m\n\u001b[1;33m    print(\"가라\")\u001b[0m\n\u001b[1;37m    ^\u001b[0m\n\u001b[1;31mIndentationError\u001b[0m\u001b[1;31m:\u001b[0m unexpected indent\n"
     ]
    }
   ],
   "source": [
    "money = True\n",
    "if money:\n",
    "    print(\"택시를\")\n",
    "print(\"타고\")\n",
    "    print(\"가라\")"
   ]
  },
  {
   "cell_type": "code",
   "execution_count": 2,
   "id": "fa7d1a43-26a4-4081-b88f-d7ba1d37eb56",
   "metadata": {},
   "outputs": [
    {
     "name": "stdout",
     "output_type": "stream",
     "text": [
      "타고\n"
     ]
    }
   ],
   "source": [
    "money = False\n",
    "if money:\n",
    "    print(\"택시를\")\n",
    "print(\"타고\")"
   ]
  },
  {
   "cell_type": "code",
   "execution_count": 3,
   "id": "2c69164a-41b8-4b7a-a07d-95aeb110d09e",
   "metadata": {},
   "outputs": [
    {
     "name": "stdout",
     "output_type": "stream",
     "text": [
      "택시를\n",
      "타고\n"
     ]
    }
   ],
   "source": [
    "money = True\n",
    "if money:\n",
    "    print(\"택시를\")\n",
    "    print(\"타고\")"
   ]
  },
  {
   "cell_type": "code",
   "execution_count": 4,
   "id": "a5b61509-8bd0-4842-9d71-470fc67f3874",
   "metadata": {},
   "outputs": [
    {
     "name": "stdout",
     "output_type": "stream",
     "text": [
      "택시를\n",
      "타고\n",
      "가라\n"
     ]
    }
   ],
   "source": [
    "money = True\n",
    "if money:\n",
    "    print(\"택시를\")\n",
    "    print(\"타고\")\n",
    "    print(\"가라\")"
   ]
  },
  {
   "cell_type": "code",
   "execution_count": 5,
   "id": "d2bd6971-7d4f-4997-9152-22c05920c35b",
   "metadata": {},
   "outputs": [
    {
     "name": "stdout",
     "output_type": "stream",
     "text": [
      "택시를 타고\n"
     ]
    }
   ],
   "source": [
    "if money:\n",
    "    print(\"택시를 타고\")"
   ]
  },
  {
   "cell_type": "markdown",
   "id": "5c7523f8-6053-4acc-8258-7b862d68ab96",
   "metadata": {},
   "source": [
    "### 2. 연산자"
   ]
  },
  {
   "cell_type": "code",
   "execution_count": 7,
   "id": "7e1d09bd-d1e9-41a8-97a9-7388bb20fdd6",
   "metadata": {},
   "outputs": [
    {
     "name": "stdout",
     "output_type": "stream",
     "text": [
      "True\n",
      "False\n",
      "False\n",
      "True\n"
     ]
    }
   ],
   "source": [
    "# 비교 연산자\n",
    "x=3\n",
    "y=2\n",
    "\n",
    "print(x>y) # True\n",
    "print(x<y) # False\n",
    "print(x==y) # False\n",
    "print(x!=y)# True"
   ]
  },
  {
   "cell_type": "code",
   "execution_count": 10,
   "id": "fbc3dd42-1f4b-4192-8ac0-5fae89194822",
   "metadata": {},
   "outputs": [
    {
     "name": "stdout",
     "output_type": "stream",
     "text": [
      "걸어가라\n"
     ]
    }
   ],
   "source": [
    "money = 2000\n",
    "\n",
    "if money >=3000:\n",
    "    print(\"택시를 타고 가라\")\n",
    "else:\n",
    "    print(\"걸어가라\")"
   ]
  },
  {
   "cell_type": "code",
   "execution_count": 12,
   "id": "19a22abf-8101-4f37-af67-8408822b31b7",
   "metadata": {},
   "outputs": [
    {
     "name": "stdout",
     "output_type": "stream",
     "text": [
      "택시를 타고 가라\n"
     ]
    }
   ],
   "source": [
    "money = 5000\n",
    "\n",
    "if money >=3000:\n",
    "    print(\"택시를 타고 가라\")\n",
    "else:\n",
    "    print(\"걸어가라\")"
   ]
  },
  {
   "cell_type": "code",
   "execution_count": 13,
   "id": "17f5e650-808f-49e8-8be5-b41756c4379a",
   "metadata": {},
   "outputs": [
    {
     "name": "stdout",
     "output_type": "stream",
     "text": [
      "택시를 타고 가라\n"
     ]
    }
   ],
   "source": [
    "money = 3000\n",
    "\n",
    "if money >=3000:\n",
    "    print(\"택시를 타고 가라\")\n",
    "else:\n",
    "    print(\"걸어가라\")"
   ]
  },
  {
   "cell_type": "code",
   "execution_count": 14,
   "id": "19449ec1-9fbc-43f3-b16d-b131f57220aa",
   "metadata": {},
   "outputs": [
    {
     "name": "stdout",
     "output_type": "stream",
     "text": [
      "걸어가라\n"
     ]
    }
   ],
   "source": [
    "# 논리 연산자\n",
    "# 조건식 x,y => and 둘 다 True 일 때 True\n",
    "#              or 하나만 True 일 때 True\n",
    "#              not 하나가 False이면 True\n",
    "money = 2000\n",
    "card = False\n",
    "\n",
    "if money >=3000 or card:\n",
    "    print(\"택시를 타고 가라\")\n",
    "else:\n",
    "    print(\"걸어가라\")"
   ]
  },
  {
   "cell_type": "code",
   "execution_count": 15,
   "id": "e57d98c2-c0eb-4975-9334-c1c6cbddb4f8",
   "metadata": {},
   "outputs": [
    {
     "data": {
      "text/plain": [
       "True"
      ]
     },
     "execution_count": 15,
     "metadata": {},
     "output_type": "execute_result"
    }
   ],
   "source": [
    "# in, not in\n",
    "1 in [1,2,3]"
   ]
  },
  {
   "cell_type": "code",
   "execution_count": 16,
   "id": "3edfba7c-ce3c-4d9a-84e3-6e12132b2983",
   "metadata": {},
   "outputs": [
    {
     "data": {
      "text/plain": [
       "False"
      ]
     },
     "execution_count": 16,
     "metadata": {},
     "output_type": "execute_result"
    }
   ],
   "source": [
    "1 not in [1,2,3]"
   ]
  },
  {
   "cell_type": "code",
   "execution_count": 17,
   "id": "6a73a6fd-0159-4ebc-9fd0-3033d119de69",
   "metadata": {},
   "outputs": [
    {
     "data": {
      "text/plain": [
       "True"
      ]
     },
     "execution_count": 17,
     "metadata": {},
     "output_type": "execute_result"
    }
   ],
   "source": [
    "'a' in ('a','b','c')"
   ]
  },
  {
   "cell_type": "code",
   "execution_count": 18,
   "id": "74280228-187c-466f-9c53-4b9ed462c11e",
   "metadata": {},
   "outputs": [
    {
     "data": {
      "text/plain": [
       "True"
      ]
     },
     "execution_count": 18,
     "metadata": {},
     "output_type": "execute_result"
    }
   ],
   "source": [
    "'d' not in ('a','b','c')"
   ]
  },
  {
   "cell_type": "code",
   "execution_count": 19,
   "id": "aead52a3-7259-4a46-b652-bd537e6d7a57",
   "metadata": {},
   "outputs": [
    {
     "name": "stdout",
     "output_type": "stream",
     "text": [
      "택시를 타고 가라\n"
     ]
    }
   ],
   "source": [
    "pocket =['paper','cellphone','money']\n",
    "\n",
    "if 'money' in pocket:\n",
    "    print(\"택시를 타고 가라\")\n",
    "else:\n",
    "    print(\"걸어가라\")"
   ]
  },
  {
   "cell_type": "code",
   "execution_count": 23,
   "id": "70a30dcd-140a-4b4e-a6c1-6538845175e5",
   "metadata": {},
   "outputs": [
    {
     "name": "stdout",
     "output_type": "stream",
     "text": [
      "택시를 타고 가라\n"
     ]
    }
   ],
   "source": [
    "# pass : 실행문 실행하지 않고 넘어가기\n",
    "pocket =['paper','cellphone']\n",
    "\n",
    "if 'cellphone' in pocket:\n",
    "   pass\n",
    "   print(\"택시를 타고 가라\")\n",
    "else:\n",
    "    print(\"카드를 꺼내라\")"
   ]
  },
  {
   "cell_type": "markdown",
   "id": "35d0b887-a36b-4a33-8e99-1d0bfcd7970d",
   "metadata": {},
   "source": [
    "### 3. 다양한 조건을 판단하는 elif"
   ]
  },
  {
   "cell_type": "code",
   "execution_count": 24,
   "id": "dbef073c-432e-4a55-83ad-c8e0f32ec6b3",
   "metadata": {},
   "outputs": [
    {
     "name": "stdout",
     "output_type": "stream",
     "text": [
      "택시를 타고 가라\n"
     ]
    }
   ],
   "source": [
    "#if,else만으로 표현\n",
    "pocket = ['paper','cellphone']\n",
    "card = True\n",
    "\n",
    "if 'money' in pocket:\n",
    "    print(\"택시를 타고 가라\")\n",
    "else:\n",
    "    if card:\n",
    "        print(\"택시를 타고 가라\")\n",
    "    else:\n",
    "        print(\"걸어가라\")"
   ]
  },
  {
   "cell_type": "code",
   "execution_count": 26,
   "id": "dacb6647-4efd-419b-a629-2ad0f6fc02fe",
   "metadata": {},
   "outputs": [
    {
     "name": "stdout",
     "output_type": "stream",
     "text": [
      "카드로 택시를 타고 가라\n"
     ]
    }
   ],
   "source": [
    "#elif 사용\n",
    "pocket = ['paper','cellphone']\n",
    "card = True\n",
    "\n",
    "if 'money' in pocket:\n",
    "    print(\"택시를 타고 가라\")\n",
    "elif card:\n",
    "        print(\"카드로 택시를 타고 가라\")\n",
    "else:\n",
    "    print(\"걸어가라\")"
   ]
  },
  {
   "cell_type": "code",
   "execution_count": 27,
   "id": "54a1c8c2-2403-4bb5-9079-99b81fef0272",
   "metadata": {},
   "outputs": [
    {
     "name": "stdout",
     "output_type": "stream",
     "text": [
      "D\n"
     ]
    }
   ],
   "source": [
    "math = 60\n",
    "\n",
    "if math>=90:\n",
    "    print('A')\n",
    "elif math>=80:\n",
    "    print('B')\n",
    "elif math>=70:\n",
    "    print('C')\n",
    "elif math>=60:\n",
    "    print('D')\n"
   ]
  },
  {
   "cell_type": "code",
   "execution_count": 30,
   "id": "253991f3-1d31-49a7-b8f4-270df3049daf",
   "metadata": {},
   "outputs": [],
   "source": [
    "#if문 한 줄로 작성하기\n",
    "pocket =['paper','cellphone','money']\n",
    "\n",
    "if 'money' in pocket: pass\n",
    "else:print(\"택시를 타고 가라\")"
   ]
  },
  {
   "cell_type": "markdown",
   "id": "5f12265a-bd5f-47a0-b562-398ee1ac7116",
   "metadata": {},
   "source": [
    "### 4. 조건부 표현식"
   ]
  },
  {
   "cell_type": "code",
   "execution_count": 31,
   "id": "29d9f0ce-633c-47eb-9a7f-8b224ad8a21d",
   "metadata": {},
   "outputs": [
    {
     "name": "stdout",
     "output_type": "stream",
     "text": [
      "success\n"
     ]
    }
   ],
   "source": [
    "# if / else 문\n",
    "score=90\n",
    "\n",
    "if score >=60:\n",
    "    message=\"success\"\n",
    "else:\n",
    "    message=\"failure\"\n",
    "\n",
    "print(message)"
   ]
  },
  {
   "cell_type": "code",
   "execution_count": 33,
   "id": "09d8fa9e-033f-49c9-88e6-3f85765720c3",
   "metadata": {},
   "outputs": [
    {
     "name": "stdout",
     "output_type": "stream",
     "text": [
      "success\n"
     ]
    }
   ],
   "source": [
    "#조건부 표현식\n",
    "message=\"success\" if score >=60 else \"failure\"\n",
    "\n",
    "print(message)"
   ]
  }
 ],
 "metadata": {
  "kernelspec": {
   "display_name": "Python 3 (ipykernel)",
   "language": "python",
   "name": "python3"
  },
  "language_info": {
   "codemirror_mode": {
    "name": "ipython",
    "version": 3
   },
   "file_extension": ".py",
   "mimetype": "text/x-python",
   "name": "python",
   "nbconvert_exporter": "python",
   "pygments_lexer": "ipython3",
   "version": "3.13.5"
  }
 },
 "nbformat": 4,
 "nbformat_minor": 5
}
