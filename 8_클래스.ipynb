{
 "cells": [
  {
   "cell_type": "markdown",
   "id": "fdc6006c-5b02-4da7-b3c1-cbc664a9da03",
   "metadata": {},
   "source": [
    "### 1. 클래스는 왜 필요한가?"
   ]
  },
  {
   "cell_type": "code",
   "execution_count": 4,
   "id": "1196fee6-86fd-45d2-8e20-35f3c2608fd4",
   "metadata": {},
   "outputs": [
    {
     "name": "stdout",
     "output_type": "stream",
     "text": [
      "3\n",
      "7\n"
     ]
    }
   ],
   "source": [
    "# 함수로 계산기 만들기\n",
    "result = 0\n",
    "\n",
    "def add(num):\n",
    "    global result\n",
    "    result += num\n",
    "    return result\n",
    "\n",
    "print(add(3)) #0+3=3\n",
    "print(add(4)) #0+4=4"
   ]
  },
  {
   "cell_type": "code",
   "execution_count": 52,
   "id": "4f414f37-5732-4241-a082-75bf80060ab6",
   "metadata": {},
   "outputs": [
    {
     "ename": "NameError",
     "evalue": "name 'result1' is not defined",
     "output_type": "error",
     "traceback": [
      "\u001b[1;31m---------------------------------------------------------------------------\u001b[0m",
      "\u001b[1;31mNameError\u001b[0m                                 Traceback (most recent call last)",
      "Cell \u001b[1;32mIn[52], line 15\u001b[0m\n\u001b[0;32m     12\u001b[0m     result2\u001b[38;5;241m+\u001b[39m\u001b[38;5;241m=\u001b[39mnum\n\u001b[0;32m     13\u001b[0m     \u001b[38;5;28;01mreturn\u001b[39;00m result2\n\u001b[1;32m---> 15\u001b[0m \u001b[38;5;28mprint\u001b[39m(add1(\u001b[38;5;241m3\u001b[39m))\n\u001b[0;32m     16\u001b[0m \u001b[38;5;28mprint\u001b[39m(add1(\u001b[38;5;241m4\u001b[39m))\n\u001b[0;32m     17\u001b[0m \u001b[38;5;28mprint\u001b[39m(add2(\u001b[38;5;241m3\u001b[39m))\n",
      "Cell \u001b[1;32mIn[52], line 7\u001b[0m, in \u001b[0;36madd1\u001b[1;34m(num)\u001b[0m\n\u001b[0;32m      5\u001b[0m \u001b[38;5;28;01mdef\u001b[39;00m\u001b[38;5;250m \u001b[39m\u001b[38;5;21madd1\u001b[39m(num):\n\u001b[0;32m      6\u001b[0m     \u001b[38;5;28;01mglobal\u001b[39;00m result1\n\u001b[1;32m----> 7\u001b[0m     result1\u001b[38;5;241m+\u001b[39m\u001b[38;5;241m=\u001b[39mnum\n\u001b[0;32m      8\u001b[0m     \u001b[38;5;28;01mreturn\u001b[39;00m result1\n",
      "\u001b[1;31mNameError\u001b[0m: name 'result1' is not defined"
     ]
    }
   ],
   "source": [
    "# 계산기 2개로 각각 계산\n",
    "reult1=0\n",
    "result2=0\n",
    "\n",
    "def add1(num):\n",
    "    global result1\n",
    "    result1+=num\n",
    "    return result1\n",
    "\n",
    "def add2(num):\n",
    "    global result2\n",
    "    result2+=num\n",
    "    return result2\n",
    "    \n",
    "print(add1(3))\n",
    "print(add1(4))\n",
    "print(add2(3))\n",
    "print(add2(7))"
   ]
  },
  {
   "cell_type": "code",
   "execution_count": 51,
   "id": "46fb6bb4-a0e9-47e8-adfe-40a5866b7531",
   "metadata": {},
   "outputs": [
    {
     "ename": "TypeError",
     "evalue": "'str' object is not callable",
     "output_type": "error",
     "traceback": [
      "\u001b[1;31m---------------------------------------------------------------------------\u001b[0m",
      "\u001b[1;31mTypeError\u001b[0m                                 Traceback (most recent call last)",
      "Cell \u001b[1;32mIn[51], line 17\u001b[0m\n\u001b[0;32m     13\u001b[0m cal1 \u001b[38;5;241m=\u001b[39m Calculator()\n\u001b[0;32m     15\u001b[0m cal2 \u001b[38;5;241m=\u001b[39m Calculator()\n\u001b[1;32m---> 17\u001b[0m \u001b[38;5;28mprint\u001b[39m(cal1\u001b[38;5;241m.\u001b[39madd(\u001b[38;5;241m3\u001b[39m))\n\u001b[0;32m     19\u001b[0m \u001b[38;5;28mprint\u001b[39m(cal1\u001b[38;5;241m.\u001b[39madd(\u001b[38;5;241m4\u001b[39m))\n\u001b[0;32m     21\u001b[0m \u001b[38;5;28mprint\u001b[39m(cal2\u001b[38;5;241m.\u001b[39madd(\u001b[38;5;241m3\u001b[39m))\n",
      "\u001b[1;31mTypeError\u001b[0m: 'str' object is not callable"
     ]
    }
   ],
   "source": [
    "class Calculator:\n",
    "\n",
    "    def __init__(self):\n",
    "\n",
    "        self.result = 0   # 초기값 설정\n",
    "\n",
    "    def add(self, num):\n",
    "\n",
    "        self.result += num\n",
    "\n",
    "        return self.result\n",
    "\n",
    "cal1 = Calculator()\n",
    "\n",
    "cal2 = Calculator()\n",
    "\n",
    "print(cal1.add(3))\n",
    "\n",
    "print(cal1.add(4))\n",
    "\n",
    "print(cal2.add(3))\n",
    "\n",
    "print(cal2.add(7))"
   ]
  },
  {
   "cell_type": "code",
   "execution_count": 48,
   "id": "21f0e707-72ee-48f5-8692-e3f21eca0b1a",
   "metadata": {},
   "outputs": [
    {
     "ename": "TypeError",
     "evalue": "'str' object is not callable",
     "output_type": "error",
     "traceback": [
      "\u001b[1;31m---------------------------------------------------------------------------\u001b[0m",
      "\u001b[1;31mTypeError\u001b[0m                                 Traceback (most recent call last)",
      "Cell \u001b[1;32mIn[48], line 13\u001b[0m\n\u001b[0;32m     10\u001b[0m cal1\u001b[38;5;241m=\u001b[39mCalculator() \u001b[38;5;66;03m# 인스턴스 - 계산기1\u001b[39;00m\n\u001b[0;32m     11\u001b[0m cal2\u001b[38;5;241m=\u001b[39mCalculator() \u001b[38;5;66;03m# 인스턴스 - 계산기2\u001b[39;00m\n\u001b[1;32m---> 13\u001b[0m \u001b[38;5;28mprint\u001b[39m(cal1\u001b[38;5;241m.\u001b[39madd(\u001b[38;5;241m3\u001b[39m)) \n\u001b[0;32m     14\u001b[0m \u001b[38;5;28mprint\u001b[39m(cal1\u001b[38;5;241m.\u001b[39madd(\u001b[38;5;241m4\u001b[39m))\n\u001b[0;32m     15\u001b[0m \u001b[38;5;28mprint\u001b[39m(cal2\u001b[38;5;241m.\u001b[39madd(\u001b[38;5;241m5\u001b[39m))\n",
      "\u001b[1;31mTypeError\u001b[0m: 'str' object is not callable"
     ]
    }
   ],
   "source": [
    "# 클래스로 여러개 계산기 만들기\n",
    "class Calculator:\n",
    "    def __init__(self):\n",
    "        self.result = 0 # 계산기 초기값\n",
    "\n",
    "    def add(self,num):\n",
    "        self.result+=num\n",
    "        return self.result\n",
    "\n",
    "cal1=Calculator() # 인스턴스 - 계산기1\n",
    "cal2=Calculator() # 인스턴스 - 계산기2\n",
    "\n",
    "print(cal1.add(3)) \n",
    "print(cal1.add(4))\n",
    "print(cal2.add(5))\n",
    "print(cal2.add(7))"
   ]
  },
  {
   "cell_type": "code",
   "execution_count": 39,
   "id": "e05fef94-6d7d-4ec2-a77f-1a57250a9bb6",
   "metadata": {},
   "outputs": [
    {
     "ename": "TypeError",
     "evalue": "'str' object is not callable",
     "output_type": "error",
     "traceback": [
      "\u001b[1;31m---------------------------------------------------------------------------\u001b[0m",
      "\u001b[1;31mTypeError\u001b[0m                                 Traceback (most recent call last)",
      "Cell \u001b[1;32mIn[39], line 2\u001b[0m\n\u001b[0;32m      1\u001b[0m \u001b[38;5;66;03m# 더하기, 빼기 기능이 있는 계산기의 설계도\u001b[39;00m\n\u001b[1;32m----> 2\u001b[0m \u001b[38;5;28mprint\u001b[39m(\u001b[38;5;28mtype\u001b[39m(cal1\u001b[38;5;241m.\u001b[39madd))\n\u001b[0;32m      3\u001b[0m \u001b[38;5;28;01mclass\u001b[39;00m\u001b[38;5;250m \u001b[39m\u001b[38;5;21;01mCalculator\u001b[39;00m:\n\u001b[0;32m      4\u001b[0m     \u001b[38;5;28;01mdef\u001b[39;00m\u001b[38;5;250m \u001b[39m\u001b[38;5;21m__init__\u001b[39m(\u001b[38;5;28mself\u001b[39m):\n",
      "\u001b[1;31mTypeError\u001b[0m: 'str' object is not callable"
     ]
    }
   ],
   "source": [
    "# 더하기, 빼기 기능이 있는 계산기의 설계도\n",
    "class Calculator:\n",
    "    def __init__(self):\n",
    "        self.result = 0\n",
    "    def add(self,num):\n",
    "        self.result+=num\n",
    "        return self.result\n",
    "\n",
    "    def sub(self,num):\n",
    "        self.result-=num\n",
    "        return self.result\n",
    "    \n",
    "cal1 = Calculator()\n",
    "print(cal1.add(10)) \n",
    "print(cal1.add(3))\n",
    "print(cal1.sub(5))\n",
    "\n",
    "cal2 = Calculator()\n",
    "print(cal2.sub(5)) \n",
    "print(cal2.add(20))"
   ]
  },
  {
   "cell_type": "markdown",
   "id": "82ce70b0-b3a1-4d7e-a41a-b44aa6fe1d29",
   "metadata": {},
   "source": [
    "### 3. 사칙연산 클래스"
   ]
  },
  {
   "cell_type": "code",
   "execution_count": 22,
   "id": "78fd4870-d42f-4834-8e17-26f3a145e2a4",
   "metadata": {},
   "outputs": [],
   "source": [
    "class FourCal:\n",
    "    pass"
   ]
  },
  {
   "cell_type": "code",
   "execution_count": 23,
   "id": "61e7a8c7-e617-4768-aa30-d986f6382bde",
   "metadata": {},
   "outputs": [
    {
     "data": {
      "text/plain": [
       "__main__.FourCal"
      ]
     },
     "execution_count": 23,
     "metadata": {},
     "output_type": "execute_result"
    }
   ],
   "source": [
    "a = FourCal()\n",
    "type(a)"
   ]
  },
  {
   "cell_type": "code",
   "execution_count": 24,
   "id": "5b3bc381-acae-414d-ac07-ab83013997a0",
   "metadata": {},
   "outputs": [],
   "source": [
    "class FourCal:\n",
    "    def setdata(self, first, second):\n",
    "        self.first = first\n",
    "        self.second = second"
   ]
  },
  {
   "cell_type": "code",
   "execution_count": 26,
   "id": "beba9121-0d9a-4999-83fb-399dcb5d6dba",
   "metadata": {},
   "outputs": [
    {
     "ename": "TypeError",
     "evalue": "'str' object is not callable",
     "output_type": "error",
     "traceback": [
      "\u001b[1;31m---------------------------------------------------------------------------\u001b[0m",
      "\u001b[1;31mTypeError\u001b[0m                                 Traceback (most recent call last)",
      "Cell \u001b[1;32mIn[26], line 3\u001b[0m\n\u001b[0;32m      1\u001b[0m a \u001b[38;5;241m=\u001b[39m FourCal() \u001b[38;5;66;03m#인스턴스 샏성\u001b[39;00m\n\u001b[0;32m      2\u001b[0m a\u001b[38;5;241m.\u001b[39msetdata(\u001b[38;5;241m3\u001b[39m,\u001b[38;5;241m4\u001b[39m)\n\u001b[1;32m----> 3\u001b[0m \u001b[38;5;28mprint\u001b[39m(a\u001b[38;5;241m.\u001b[39mfirst, a\u001b[38;5;241m.\u001b[39msecond)\n",
      "\u001b[1;31mTypeError\u001b[0m: 'str' object is not callable"
     ]
    }
   ],
   "source": [
    "a = FourCal() #인스턴스 샏성\n",
    "a.setdata(3,4)\n",
    "print(a.first, a.second)"
   ]
  },
  {
   "cell_type": "code",
   "execution_count": 27,
   "id": "9020927e-4e6f-42dc-8e37-7508dea8e0d3",
   "metadata": {},
   "outputs": [
    {
     "ename": "TypeError",
     "evalue": "'str' object is not callable",
     "output_type": "error",
     "traceback": [
      "\u001b[1;31m---------------------------------------------------------------------------\u001b[0m",
      "\u001b[1;31mTypeError\u001b[0m                                 Traceback (most recent call last)",
      "Cell \u001b[1;32mIn[27], line 23\u001b[0m\n\u001b[0;32m     20\u001b[0m cal1\u001b[38;5;241m.\u001b[39msetdata(\u001b[38;5;241m4\u001b[39m,\u001b[38;5;241m2\u001b[39m)\n\u001b[0;32m     21\u001b[0m cal2\u001b[38;5;241m.\u001b[39msetdata(\u001b[38;5;241m3\u001b[39m,\u001b[38;5;241m8\u001b[39m)\n\u001b[1;32m---> 23\u001b[0m \u001b[38;5;28mprint\u001b[39m(cal1\u001b[38;5;241m.\u001b[39madd())\n\u001b[0;32m     24\u001b[0m \u001b[38;5;28mprint\u001b[39m(cal1\u001b[38;5;241m.\u001b[39msub())\n\u001b[0;32m     25\u001b[0m \u001b[38;5;28mprint\u001b[39m(cal1\u001b[38;5;241m.\u001b[39mmul())\n",
      "\u001b[1;31mTypeError\u001b[0m: 'str' object is not callable"
     ]
    }
   ],
   "source": [
    "class FourCal:\n",
    "    def setdata(self, first, second):\n",
    "        self.first = first\n",
    "        self.second = second\n",
    "\n",
    "    def add(self):\n",
    "        result = self.first + self.second\n",
    "        return result\n",
    "\n",
    "    def sub(self):\n",
    "        result = self.first - self.second\n",
    "\n",
    "    def div(self):\n",
    "        result = self.first / self.second\n",
    "        return result\n",
    "\n",
    "cal1 = FourCal()\n",
    "cal2 = FourCal()\n",
    "\n",
    "cal1.setdata(4,2)\n",
    "cal2.setdata(3,8)\n",
    "\n",
    "print(cal1.add())\n",
    "print(cal1.sub())\n",
    "print(cal1.mul())\n",
    "print(cal1.div())\n",
    "print('*'*20)\n",
    "print(cal2.add())\n",
    "print(cal2.sub())\n",
    "print(cal2.mul())\n",
    "print(cal2.div())"
   ]
  },
  {
   "cell_type": "markdown",
   "id": "7ff58642-3c55-4be4-8cef-71fa3f9ad3a5",
   "metadata": {},
   "source": [
    "### 4. 생성자"
   ]
  },
  {
   "cell_type": "code",
   "execution_count": 28,
   "id": "7f0d53d6-31b9-4f60-992d-4526ac57eacd",
   "metadata": {},
   "outputs": [],
   "source": [
    "class FourCal:\n",
    "    def __init__(self, first, second):\n",
    "        self.first = first\n",
    "        self.second = second\n",
    "\n",
    "    def add(self):\n",
    "        result = self.first + self.second\n",
    "        return result\n",
    "\n",
    "    def sub(self):\n",
    "        result = self.first - self.second\n",
    "\n",
    "    def div(self):\n",
    "        result = self.first / self.second\n",
    "        return result\n"
   ]
  },
  {
   "cell_type": "code",
   "execution_count": 29,
   "id": "85cadf2f-d9fe-4911-9ba3-3b69e0a839bd",
   "metadata": {},
   "outputs": [
    {
     "ename": "TypeError",
     "evalue": "FourCal.__init__() missing 2 required positional arguments: 'first' and 'second'",
     "output_type": "error",
     "traceback": [
      "\u001b[1;31m---------------------------------------------------------------------------\u001b[0m",
      "\u001b[1;31mTypeError\u001b[0m                                 Traceback (most recent call last)",
      "Cell \u001b[1;32mIn[29], line 1\u001b[0m\n\u001b[1;32m----> 1\u001b[0m calc1 \u001b[38;5;241m=\u001b[39m FourCal()\n",
      "\u001b[1;31mTypeError\u001b[0m: FourCal.__init__() missing 2 required positional arguments: 'first' and 'second'"
     ]
    }
   ],
   "source": [
    "calc1 = FourCal()"
   ]
  },
  {
   "cell_type": "code",
   "execution_count": 30,
   "id": "5e07763a-6de8-4dc1-9a89-0435da1ac62b",
   "metadata": {},
   "outputs": [],
   "source": [
    "calc1 = FourCal(15,3)"
   ]
  },
  {
   "cell_type": "code",
   "execution_count": 31,
   "id": "d1e0fa2d-91d4-4b3f-ad33-fba8715d9092",
   "metadata": {},
   "outputs": [
    {
     "data": {
      "text/plain": [
       "15"
      ]
     },
     "execution_count": 31,
     "metadata": {},
     "output_type": "execute_result"
    }
   ],
   "source": [
    "calc1.first"
   ]
  },
  {
   "cell_type": "code",
   "execution_count": 32,
   "id": "8fb10e9a-5657-4cc8-b6db-e63ed8e74c24",
   "metadata": {},
   "outputs": [
    {
     "data": {
      "text/plain": [
       "3"
      ]
     },
     "execution_count": 32,
     "metadata": {},
     "output_type": "execute_result"
    }
   ],
   "source": [
    "calc1.second"
   ]
  },
  {
   "cell_type": "code",
   "execution_count": 33,
   "id": "8cd34e35-18d3-46b5-a418-040c5e172d3b",
   "metadata": {},
   "outputs": [
    {
     "ename": "TypeError",
     "evalue": "'str' object is not callable",
     "output_type": "error",
     "traceback": [
      "\u001b[1;31m---------------------------------------------------------------------------\u001b[0m",
      "\u001b[1;31mTypeError\u001b[0m                                 Traceback (most recent call last)",
      "Cell \u001b[1;32mIn[33], line 1\u001b[0m\n\u001b[1;32m----> 1\u001b[0m \u001b[38;5;28mprint\u001b[39m(\u001b[38;5;124m'\u001b[39m\u001b[38;5;124m15 + 3 = \u001b[39m\u001b[38;5;124m'\u001b[39m,calc1\u001b[38;5;241m.\u001b[39madd())\n\u001b[0;32m      2\u001b[0m \u001b[38;5;28mprint\u001b[39m(\u001b[38;5;124m'\u001b[39m\u001b[38;5;124m15 - 3 = \u001b[39m\u001b[38;5;124m'\u001b[39m,calc1\u001b[38;5;241m.\u001b[39msub())\n\u001b[0;32m      3\u001b[0m \u001b[38;5;28mprint\u001b[39m(\u001b[38;5;124m'\u001b[39m\u001b[38;5;124m15 * 3 = \u001b[39m\u001b[38;5;124m'\u001b[39m,calc1\u001b[38;5;241m.\u001b[39mmul())\n",
      "\u001b[1;31mTypeError\u001b[0m: 'str' object is not callable"
     ]
    }
   ],
   "source": [
    "print('15 + 3 = ',calc1.add())\n",
    "print('15 - 3 = ',calc1.sub())\n",
    "print('15 * 3 = ',calc1.mul())\n",
    "print('15 / 3 = ',calc1.div())"
   ]
  },
  {
   "cell_type": "markdown",
   "id": "e5044d37-5faa-483f-b05e-b2eb78d6d7f0",
   "metadata": {},
   "source": [
    "### 5. 클래스 상속"
   ]
  },
  {
   "cell_type": "code",
   "execution_count": 34,
   "id": "df1eed14-e67a-4a6f-ba50-f6947cac96fe",
   "metadata": {},
   "outputs": [],
   "source": [
    "class MoreFourCal(FourCal):\n",
    "    pass\n"
   ]
  },
  {
   "cell_type": "code",
   "execution_count": 35,
   "id": "354d98b6-4226-43ad-98b1-3291e428240b",
   "metadata": {},
   "outputs": [],
   "source": [
    "cal1 = MoreFourCal(4,2)"
   ]
  },
  {
   "cell_type": "code",
   "execution_count": 36,
   "id": "faf4906b-4dd8-46c9-9213-f663c5f972d0",
   "metadata": {},
   "outputs": [
    {
     "ename": "TypeError",
     "evalue": "'str' object is not callable",
     "output_type": "error",
     "traceback": [
      "\u001b[1;31m---------------------------------------------------------------------------\u001b[0m",
      "\u001b[1;31mTypeError\u001b[0m                                 Traceback (most recent call last)",
      "Cell \u001b[1;32mIn[36], line 1\u001b[0m\n\u001b[1;32m----> 1\u001b[0m \u001b[38;5;28mprint\u001b[39m(cal1\u001b[38;5;241m.\u001b[39madd())\n\u001b[0;32m      2\u001b[0m \u001b[38;5;28mprint\u001b[39m(cal1\u001b[38;5;241m.\u001b[39msub())\n\u001b[0;32m      3\u001b[0m \u001b[38;5;28mprint\u001b[39m(cal1\u001b[38;5;241m.\u001b[39mmul())\n",
      "\u001b[1;31mTypeError\u001b[0m: 'str' object is not callable"
     ]
    }
   ],
   "source": [
    "print(cal1.add())\n",
    "print(cal1.sub())\n",
    "print(cal1.mul())\n",
    "print(cal1.div())"
   ]
  },
  {
   "cell_type": "code",
   "execution_count": 37,
   "id": "50f363a3-d28f-4bd8-adde-15179b44bb55",
   "metadata": {},
   "outputs": [
    {
     "ename": "TypeError",
     "evalue": "'str' object is not callable",
     "output_type": "error",
     "traceback": [
      "\u001b[1;31m---------------------------------------------------------------------------\u001b[0m",
      "\u001b[1;31mTypeError\u001b[0m                                 Traceback (most recent call last)",
      "Cell \u001b[1;32mIn[37], line 8\u001b[0m\n\u001b[0;32m      5\u001b[0m         \u001b[38;5;28;01mreturn\u001b[39;00m result\n\u001b[0;32m      7\u001b[0m cal2 \u001b[38;5;241m=\u001b[39m MoreFourCal(\u001b[38;5;241m4\u001b[39m,\u001b[38;5;241m2\u001b[39m)\n\u001b[1;32m----> 8\u001b[0m \u001b[38;5;28mprint\u001b[39m(cal2\u001b[38;5;241m.\u001b[39madd())\n\u001b[0;32m      9\u001b[0m \u001b[38;5;28mprint\u001b[39m(cal2\u001b[38;5;241m.\u001b[39msub())\n\u001b[0;32m     10\u001b[0m \u001b[38;5;28mprint\u001b[39m(cal2\u001b[38;5;241m.\u001b[39mmul())\n",
      "\u001b[1;31mTypeError\u001b[0m: 'str' object is not callable"
     ]
    }
   ],
   "source": [
    "# 기본 기능은 상속받았고, MoreFourCal만의 기능을 추가\n",
    "class MoreFourCal(FourCal):\n",
    "    def pow(self):\n",
    "        result = self.first**self.second\n",
    "        return result\n",
    "\n",
    "cal2 = MoreFourCal(4,2)\n",
    "print(cal2.add())\n",
    "print(cal2.sub())\n",
    "print(cal2.mul())\n",
    "print(cal2.div())\n",
    "print(cal2.pow())"
   ]
  },
  {
   "cell_type": "code",
   "execution_count": 38,
   "id": "a7525b9c-2d11-4c14-b495-8aea35a4e91b",
   "metadata": {},
   "outputs": [
    {
     "ename": "TypeError",
     "evalue": "'str' object is not callable",
     "output_type": "error",
     "traceback": [
      "\u001b[1;31m---------------------------------------------------------------------------\u001b[0m",
      "\u001b[1;31mTypeError\u001b[0m                                 Traceback (most recent call last)",
      "Cell \u001b[1;32mIn[38], line 2\u001b[0m\n\u001b[0;32m      1\u001b[0m cal3 \u001b[38;5;241m=\u001b[39m MoreFourCal(\u001b[38;5;241m4\u001b[39m,\u001b[38;5;241m0\u001b[39m)\n\u001b[1;32m----> 2\u001b[0m \u001b[38;5;28mprint\u001b[39m(cal3\u001b[38;5;241m.\u001b[39madd())\n\u001b[0;32m      3\u001b[0m \u001b[38;5;28mprint\u001b[39m(cal3\u001b[38;5;241m.\u001b[39msub())\n\u001b[0;32m      4\u001b[0m \u001b[38;5;28mprint\u001b[39m(cal3\u001b[38;5;241m.\u001b[39mdiv())\n",
      "\u001b[1;31mTypeError\u001b[0m: 'str' object is not callable"
     ]
    }
   ],
   "source": [
    "cal3 = MoreFourCal(4,0)\n",
    "print(cal3.add())\n",
    "print(cal3.sub())\n",
    "print(cal3.div())"
   ]
  },
  {
   "cell_type": "markdown",
   "id": "38d6ceef-7807-44a6-b68b-45ca851915e1",
   "metadata": {},
   "source": [
    "### 6. 메서드 오버라이딩"
   ]
  },
  {
   "cell_type": "code",
   "execution_count": 40,
   "id": "b6a370f3-3a81-41ea-947b-9ac715cacf0b",
   "metadata": {},
   "outputs": [],
   "source": [
    "class SafeFourCal(FourCal):\n",
    "    #상속받은 메서드 재정의(overriding)\n",
    "    def div(self):\n",
    "        if self.second == 0:\n",
    "            return 0\n",
    "        else:\n",
    "            result = self.first / self.second\n",
    "            return result"
   ]
  },
  {
   "cell_type": "code",
   "execution_count": 41,
   "id": "bef950bd-1d99-4bc2-8816-00902b237d14",
   "metadata": {},
   "outputs": [],
   "source": [
    "calc = SafeFourCal(4,0)"
   ]
  },
  {
   "cell_type": "code",
   "execution_count": 42,
   "id": "b10b0c04-ac02-4408-b1f4-4f1f7cbc34b5",
   "metadata": {},
   "outputs": [
    {
     "ename": "TypeError",
     "evalue": "'str' object is not callable",
     "output_type": "error",
     "traceback": [
      "\u001b[1;31m---------------------------------------------------------------------------\u001b[0m",
      "\u001b[1;31mTypeError\u001b[0m                                 Traceback (most recent call last)",
      "Cell \u001b[1;32mIn[42], line 1\u001b[0m\n\u001b[1;32m----> 1\u001b[0m \u001b[38;5;28mprint\u001b[39m(calc\u001b[38;5;241m.\u001b[39madd())\n\u001b[0;32m      2\u001b[0m \u001b[38;5;28mprint\u001b[39m(calc\u001b[38;5;241m.\u001b[39msub())\n\u001b[0;32m      3\u001b[0m \u001b[38;5;28mprint\u001b[39m(calc\u001b[38;5;241m.\u001b[39mmul())\n",
      "\u001b[1;31mTypeError\u001b[0m: 'str' object is not callable"
     ]
    }
   ],
   "source": [
    "print(calc.add())\n",
    "print(calc.sub())\n",
    "print(calc.mul())\n",
    "print(calc.div())"
   ]
  },
  {
   "cell_type": "markdown",
   "id": "003bba18-bb35-4c86-bb12-bd0371e3cb9c",
   "metadata": {},
   "source": [
    "### 7.클래스 변수"
   ]
  },
  {
   "cell_type": "code",
   "execution_count": 44,
   "id": "c380ca50-b8be-4bae-888f-211cc7cd79b6",
   "metadata": {},
   "outputs": [],
   "source": [
    "class Family:\n",
    "    lastname = '김'"
   ]
  },
  {
   "cell_type": "code",
   "execution_count": 45,
   "id": "bc39bdc1-1080-405d-b6a9-7eb160c89b9d",
   "metadata": {},
   "outputs": [
    {
     "data": {
      "text/plain": [
       "'김'"
      ]
     },
     "execution_count": 45,
     "metadata": {},
     "output_type": "execute_result"
    }
   ],
   "source": [
    "Family.lastname"
   ]
  },
  {
   "cell_type": "code",
   "execution_count": 46,
   "id": "a4b17210-96eb-4f88-a637-6b37aab103e0",
   "metadata": {},
   "outputs": [
    {
     "ename": "TypeError",
     "evalue": "'str' object is not callable",
     "output_type": "error",
     "traceback": [
      "\u001b[1;31m---------------------------------------------------------------------------\u001b[0m",
      "\u001b[1;31mTypeError\u001b[0m                                 Traceback (most recent call last)",
      "Cell \u001b[1;32mIn[46], line 3\u001b[0m\n\u001b[0;32m      1\u001b[0m a \u001b[38;5;241m=\u001b[39m Family()\n\u001b[0;32m      2\u001b[0m b \u001b[38;5;241m=\u001b[39m Family()\n\u001b[1;32m----> 3\u001b[0m \u001b[38;5;28mprint\u001b[39m(a\u001b[38;5;241m.\u001b[39mlastname)\n\u001b[0;32m      4\u001b[0m \u001b[38;5;28mprint\u001b[39m(b\u001b[38;5;241m.\u001b[39mlastname)\n",
      "\u001b[1;31mTypeError\u001b[0m: 'str' object is not callable"
     ]
    }
   ],
   "source": [
    "a = Family()\n",
    "b = Family()\n",
    "print(a.lastname)\n",
    "print(b.lastname)"
   ]
  },
  {
   "cell_type": "code",
   "execution_count": 49,
   "id": "4bbc0ca1-e6c2-4b91-b229-98304fe5e132",
   "metadata": {},
   "outputs": [
    {
     "ename": "TypeError",
     "evalue": "'str' object is not callable",
     "output_type": "error",
     "traceback": [
      "\u001b[1;31m---------------------------------------------------------------------------\u001b[0m",
      "\u001b[1;31mTypeError\u001b[0m                                 Traceback (most recent call last)",
      "Cell \u001b[1;32mIn[49], line 3\u001b[0m\n\u001b[0;32m      1\u001b[0m Family\u001b[38;5;241m.\u001b[39mlastname \u001b[38;5;241m=\u001b[39m \u001b[38;5;124m\"\u001b[39m\u001b[38;5;124m박\u001b[39m\u001b[38;5;124m\"\u001b[39m\n\u001b[0;32m      2\u001b[0m \u001b[38;5;66;03m# Family.lastname => 클래스 변수, 클래스 변수를 변경하면 인스턴스 변수도 변경\u001b[39;00m\n\u001b[1;32m----> 3\u001b[0m \u001b[38;5;28mprint\u001b[39m(a\u001b[38;5;241m.\u001b[39mlastname)\n\u001b[0;32m      4\u001b[0m \u001b[38;5;28mprint\u001b[39m(b\u001b[38;5;241m.\u001b[39mlastname)\n",
      "\u001b[1;31mTypeError\u001b[0m: 'str' object is not callable"
     ]
    }
   ],
   "source": [
    "Family.lastname = \"박\"\n",
    "# Family.lastname => 클래스 변수, 클래스 변수를 변경하면 인스턴스 변수도 변경\n",
    "print(a.lastname)\n",
    "print(b.lastname)"
   ]
  },
  {
   "cell_type": "code",
   "execution_count": 50,
   "id": "d3037a7e-6f74-4d79-a6b9-eb94287ac4b0",
   "metadata": {},
   "outputs": [
    {
     "ename": "TypeError",
     "evalue": "'str' object is not callable",
     "output_type": "error",
     "traceback": [
      "\u001b[1;31m---------------------------------------------------------------------------\u001b[0m",
      "\u001b[1;31mTypeError\u001b[0m                                 Traceback (most recent call last)",
      "Cell \u001b[1;32mIn[50], line 3\u001b[0m\n\u001b[0;32m      1\u001b[0m \u001b[38;5;66;03m# 인스턴스 변수만 변경\u001b[39;00m\n\u001b[0;32m      2\u001b[0m a\u001b[38;5;241m.\u001b[39mlastname \u001b[38;5;241m=\u001b[39m \u001b[38;5;124m\"\u001b[39m\u001b[38;5;124m최\u001b[39m\u001b[38;5;124m\"\u001b[39m\n\u001b[1;32m----> 3\u001b[0m \u001b[38;5;28mprint\u001b[39m(b\u001b[38;5;241m.\u001b[39mlastname)\n",
      "\u001b[1;31mTypeError\u001b[0m: 'str' object is not callable"
     ]
    }
   ],
   "source": [
    "# 인스턴스 변수만 변경\n",
    "a.lastname = \"최\"\n",
    "print(b.lastname)"
   ]
  }
 ],
 "metadata": {
  "kernelspec": {
   "display_name": "Python 3 (ipykernel)",
   "language": "python",
   "name": "python3"
  },
  "language_info": {
   "codemirror_mode": {
    "name": "ipython",
    "version": 3
   },
   "file_extension": ".py",
   "mimetype": "text/x-python",
   "name": "python",
   "nbconvert_exporter": "python",
   "pygments_lexer": "ipython3",
   "version": "3.13.5"
  }
 },
 "nbformat": 4,
 "nbformat_minor": 5
}
