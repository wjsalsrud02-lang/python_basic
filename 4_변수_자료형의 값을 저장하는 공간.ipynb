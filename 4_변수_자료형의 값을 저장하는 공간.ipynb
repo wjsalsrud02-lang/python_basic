{
 "cells": [
  {
   "cell_type": "markdown",
   "id": "cb34586b-6500-4c0b-a2bd-5b0a1b998602",
   "metadata": {},
   "source": [
    "### 1. 변수란?"
   ]
  },
  {
   "cell_type": "code",
   "execution_count": 1,
   "id": "11ad30e5-59af-4861-ad29-009fe64345cf",
   "metadata": {},
   "outputs": [
    {
     "data": {
      "text/plain": [
       "2040635474816"
      ]
     },
     "execution_count": 1,
     "metadata": {},
     "output_type": "execute_result"
    }
   ],
   "source": [
    "a=[1,2,3]\n",
    "id(a)"
   ]
  },
  {
   "cell_type": "code",
   "execution_count": null,
   "id": "0a9982a7-2e6d-4d46-8bb0-b28980a91709",
   "metadata": {},
   "outputs": [],
   "source": []
  },
  {
   "cell_type": "code",
   "execution_count": 2,
   "id": "6bda8956-e9fe-44c7-a7ec-c4a20b35764a",
   "metadata": {},
   "outputs": [
    {
     "data": {
      "text/plain": [
       "[1, 2, 3]"
      ]
     },
     "execution_count": 2,
     "metadata": {},
     "output_type": "execute_result"
    }
   ],
   "source": [
    "b = a\n",
    "b"
   ]
  },
  {
   "cell_type": "code",
   "execution_count": null,
   "id": "908eceb3-f6c8-474b-a20e-7f6e94adb477",
   "metadata": {},
   "outputs": [],
   "source": []
  },
  {
   "cell_type": "code",
   "execution_count": 3,
   "id": "f7c79163-4efe-4d3d-aadb-53bc232aaccc",
   "metadata": {},
   "outputs": [
    {
     "name": "stdout",
     "output_type": "stream",
     "text": [
      "2040635474816\n",
      "2040635474816\n"
     ]
    }
   ],
   "source": [
    "print(id(a))\n",
    "print(id(b))"
   ]
  },
  {
   "cell_type": "code",
   "execution_count": 4,
   "id": "35fe083e-442b-47af-8d52-42b08a04ee7a",
   "metadata": {},
   "outputs": [
    {
     "data": {
      "text/plain": [
       "[1, 4, 3]"
      ]
     },
     "execution_count": 4,
     "metadata": {},
     "output_type": "execute_result"
    }
   ],
   "source": [
    "a[1]=4\n",
    "a"
   ]
  },
  {
   "cell_type": "code",
   "execution_count": 5,
   "id": "3780c416-8eaa-4b30-834c-20a9493dd42c",
   "metadata": {},
   "outputs": [
    {
     "data": {
      "text/plain": [
       "[1, 4, 3]"
      ]
     },
     "execution_count": 5,
     "metadata": {},
     "output_type": "execute_result"
    }
   ],
   "source": [
    "b"
   ]
  },
  {
   "cell_type": "code",
   "execution_count": 6,
   "id": "1e16cc24-c29d-4927-9eb1-2b47c867db7b",
   "metadata": {},
   "outputs": [
    {
     "data": {
      "text/plain": [
       "True"
      ]
     },
     "execution_count": 6,
     "metadata": {},
     "output_type": "execute_result"
    }
   ],
   "source": [
    "a is b"
   ]
  },
  {
   "cell_type": "markdown",
   "id": "def6c8f0-3ac2-407b-bc0d-8051e0c13986",
   "metadata": {},
   "source": [
    "### b변수 생성할 때 a 변수의 값을 가져오면 a와는 다른 주소를 가르키도록 하려면?"
   ]
  },
  {
   "cell_type": "code",
   "execution_count": 7,
   "id": "d61edf89-4bd4-495e-8ba4-ff8d6f5fc5c8",
   "metadata": {},
   "outputs": [
    {
     "data": {
      "text/plain": [
       "[1, 2, 3]"
      ]
     },
     "execution_count": 7,
     "metadata": {},
     "output_type": "execute_result"
    }
   ],
   "source": [
    "# [:] 이용하기\n",
    "a=[1,2,3]\n",
    "b=a[:]\n",
    "b"
   ]
  },
  {
   "cell_type": "code",
   "execution_count": 8,
   "id": "5eb52509-3bdb-485c-b3a0-deccfcad81ae",
   "metadata": {},
   "outputs": [
    {
     "data": {
      "text/plain": [
       "[1, 4, 3]"
      ]
     },
     "execution_count": 8,
     "metadata": {},
     "output_type": "execute_result"
    }
   ],
   "source": [
    "a[1]=4\n",
    "a"
   ]
  },
  {
   "cell_type": "code",
   "execution_count": 9,
   "id": "77992bfd-f7ad-40ac-9c4d-167df1348469",
   "metadata": {},
   "outputs": [
    {
     "data": {
      "text/plain": [
       "[1, 2, 3]"
      ]
     },
     "execution_count": 9,
     "metadata": {},
     "output_type": "execute_result"
    }
   ],
   "source": [
    "b"
   ]
  },
  {
   "cell_type": "code",
   "execution_count": 10,
   "id": "6a06ac65-e696-4a33-8250-47a438fceeb6",
   "metadata": {},
   "outputs": [
    {
     "name": "stdout",
     "output_type": "stream",
     "text": [
      "2040635480000\n",
      "2040635540544\n"
     ]
    }
   ],
   "source": [
    "print(id(a))\n",
    "print(id(b))"
   ]
  },
  {
   "cell_type": "code",
   "execution_count": 11,
   "id": "ceecb4cc-de67-49c9-b81c-0ef733129229",
   "metadata": {},
   "outputs": [
    {
     "data": {
      "text/plain": [
       "[1, 2, 3]"
      ]
     },
     "execution_count": 11,
     "metadata": {},
     "output_type": "execute_result"
    }
   ],
   "source": [
    "#copy 모듈 이용하기\n",
    "from copy import copy\n",
    "a = [1,2,3]\n",
    "b"
   ]
  },
  {
   "cell_type": "code",
   "execution_count": 12,
   "id": "76e9c5f8-6453-40e4-b231-6351580c9bde",
   "metadata": {},
   "outputs": [
    {
     "data": {
      "text/plain": [
       "False"
      ]
     },
     "execution_count": 12,
     "metadata": {},
     "output_type": "execute_result"
    }
   ],
   "source": [
    "b is a"
   ]
  },
  {
   "cell_type": "code",
   "execution_count": 13,
   "id": "80283c09-3d87-445e-a32a-2cd93872a304",
   "metadata": {},
   "outputs": [
    {
     "name": "stdout",
     "output_type": "stream",
     "text": [
      "[1, 2, 5]\n",
      "[1, 2, 3]\n",
      "2040635472448\n",
      "2040635540544\n"
     ]
    }
   ],
   "source": [
    "a[2]=5\n",
    "print(a)\n",
    "print(b)\n",
    "print(id(a))\n",
    "print(id(b))"
   ]
  },
  {
   "cell_type": "code",
   "execution_count": 15,
   "id": "20e85e78-4a50-46e7-b996-929faa40515b",
   "metadata": {},
   "outputs": [
    {
     "data": {
      "text/plain": [
       "False"
      ]
     },
     "execution_count": 15,
     "metadata": {},
     "output_type": "execute_result"
    }
   ],
   "source": [
    "#list함수 만들기\n",
    "a=[1,2,3]\n",
    "b=a.copy()\n",
    "b is a"
   ]
  },
  {
   "cell_type": "markdown",
   "id": "0e8f5180-f67b-4ece-8426-a88133dd7dab",
   "metadata": {},
   "source": [
    "### 3. 변수로 만들기"
   ]
  },
  {
   "cell_type": "code",
   "execution_count": 16,
   "id": "77d3f626-c602-4880-834e-233708a40209",
   "metadata": {},
   "outputs": [
    {
     "name": "stdout",
     "output_type": "stream",
     "text": [
      "python\n",
      "life\n"
     ]
    }
   ],
   "source": [
    "# 튜플로 만들기\n",
    "a,b=('python','life')\n",
    "print(a)\n",
    "print(b)"
   ]
  },
  {
   "cell_type": "code",
   "execution_count": 17,
   "id": "22792884-c367-4a85-8030-468480c6c7a1",
   "metadata": {},
   "outputs": [
    {
     "name": "stdout",
     "output_type": "stream",
     "text": [
      "python\n",
      "life\n"
     ]
    }
   ],
   "source": [
    "#리스트로 변수 만들기\n",
    "[a,b]=['python','life']\n",
    "print(a)\n",
    "print(b)"
   ]
  },
  {
   "cell_type": "code",
   "execution_count": 18,
   "id": "9d133333-770f-4f2e-9af3-86ff8257ecc2",
   "metadata": {},
   "outputs": [
    {
     "name": "stdout",
     "output_type": "stream",
     "text": [
      "python\n",
      "python\n"
     ]
    }
   ],
   "source": [
    "#여러개 변수에 같은 갓 대입\n",
    "a=b='python'\n",
    "print(a)\n",
    "print(b)"
   ]
  },
  {
   "cell_type": "code",
   "execution_count": 19,
   "id": "218714e9-82f8-4805-8153-09ee77dc681c",
   "metadata": {},
   "outputs": [
    {
     "name": "stdout",
     "output_type": "stream",
     "text": [
      "2040535705920\n",
      "2040535705920\n"
     ]
    }
   ],
   "source": [
    "print(id(a))\n",
    "print(id(b))"
   ]
  },
  {
   "cell_type": "code",
   "execution_count": 20,
   "id": "5378cac1-067b-4ddf-8a4b-fd10db7f4439",
   "metadata": {},
   "outputs": [
    {
     "name": "stdout",
     "output_type": "stream",
     "text": [
      "[5, 2, 3]\n",
      "[5, 2, 3]\n",
      "2040635475776\n",
      "2040635475776\n"
     ]
    }
   ],
   "source": [
    "a=b=[1,2,3]\n",
    "a[0]=5\n",
    "print(a)\n",
    "print(b)\n",
    "print(id(a))\n",
    "print(id(b))"
   ]
  },
  {
   "cell_type": "code",
   "execution_count": 21,
   "id": "08e0b407-96d8-4bd2-97fe-13688619e707",
   "metadata": {},
   "outputs": [
    {
     "name": "stdout",
     "output_type": "stream",
     "text": [
      "5\n",
      "3\n"
     ]
    }
   ],
   "source": [
    "# 두 변수의 값 바꾸기\n",
    "a=3\n",
    "b=5\n",
    "a,b=b,a\n",
    "print(a)\n",
    "print(b)"
   ]
  }
 ],
 "metadata": {
  "kernelspec": {
   "display_name": "Python 3 (ipykernel)",
   "language": "python",
   "name": "python3"
  },
  "language_info": {
   "codemirror_mode": {
    "name": "ipython",
    "version": 3
   },
   "file_extension": ".py",
   "mimetype": "text/x-python",
   "name": "python",
   "nbconvert_exporter": "python",
   "pygments_lexer": "ipython3",
   "version": "3.13.5"
  }
 },
 "nbformat": 4,
 "nbformat_minor": 5
}
