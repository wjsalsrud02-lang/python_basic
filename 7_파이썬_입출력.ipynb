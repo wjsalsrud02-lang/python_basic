{
 "cells": [
  {
   "cell_type": "markdown",
   "id": "ca4f00c5-0db4-4ffc-9ae6-6d0959786ce4",
   "metadata": {},
   "source": [
    "### 1. 사용자 입출력"
   ]
  },
  {
   "cell_type": "markdown",
   "id": "2a8d1ee9-2de3-4b5b-83f9-84f9c8e1174c",
   "metadata": {},
   "source": [
    "### 1) 사용자 입력"
   ]
  },
  {
   "cell_type": "code",
   "execution_count": 3,
   "id": "0a0a72a6-fee2-4e3b-be7c-9cd862505273",
   "metadata": {},
   "outputs": [
    {
     "name": "stdin",
     "output_type": "stream",
     "text": [
      " Life is too short, you need python\n"
     ]
    }
   ],
   "source": [
    "a = input()"
   ]
  },
  {
   "cell_type": "code",
   "execution_count": 4,
   "id": "0bbf553d-a257-4984-b37c-53d49a313857",
   "metadata": {},
   "outputs": [
    {
     "name": "stdout",
     "output_type": "stream",
     "text": [
      "Life is too short, you need python\n"
     ]
    }
   ],
   "source": [
    "print(a)"
   ]
  },
  {
   "cell_type": "code",
   "execution_count": 5,
   "id": "430e45b5-ad3d-44e0-8803-99b546a01c01",
   "metadata": {},
   "outputs": [
    {
     "name": "stdin",
     "output_type": "stream",
     "text": [
      " 100\n"
     ]
    }
   ],
   "source": [
    "num = input()"
   ]
  },
  {
   "cell_type": "code",
   "execution_count": 6,
   "id": "997464d8-bdcc-4c31-80ce-54bee17106a8",
   "metadata": {},
   "outputs": [
    {
     "name": "stdout",
     "output_type": "stream",
     "text": [
      "100\n"
     ]
    }
   ],
   "source": [
    "print(num)"
   ]
  },
  {
   "cell_type": "code",
   "execution_count": 8,
   "id": "61c7d060-69e6-42df-aa2b-dbaf1e9b1eb4",
   "metadata": {},
   "outputs": [
    {
     "data": {
      "text/plain": [
       "str"
      ]
     },
     "execution_count": 8,
     "metadata": {},
     "output_type": "execute_result"
    }
   ],
   "source": [
    "type(num) #input에 입력한 모든 것은 문자열!!!"
   ]
  },
  {
   "cell_type": "markdown",
   "id": "a0f0e3de-2304-4632-920c-8aac66c2146b",
   "metadata": {},
   "source": [
    "### 2) print() 자세히 알기"
   ]
  },
  {
   "cell_type": "code",
   "execution_count": 10,
   "id": "f7a4a547-505b-4241-b64b-99b107baecf0",
   "metadata": {},
   "outputs": [
    {
     "name": "stdout",
     "output_type": "stream",
     "text": [
      "123\n",
      "python\n",
      "[1, 2, 3]\n"
     ]
    }
   ],
   "source": [
    "a=123\n",
    "print(a)\n",
    "b=\"python\"\n",
    "print(b)\n",
    "c=[1,2,3]\n",
    "print(c)"
   ]
  },
  {
   "cell_type": "code",
   "execution_count": 13,
   "id": "56aa7db4-ae54-4f51-9284-7536b8a26c02",
   "metadata": {},
   "outputs": [
    {
     "name": "stdout",
     "output_type": "stream",
     "text": [
      "life is too short\n",
      "life is too short\n",
      "life is too short\n"
     ]
    }
   ],
   "source": [
    "# 문자열과 +연산자로 출력\n",
    "print(\"life\"\" is\"\" too short\")\n",
    "print(\"life\"+\" is\"+\" too short\")\n",
    "print('life'' is'' too short')"
   ]
  },
  {
   "cell_type": "code",
   "execution_count": 14,
   "id": "feb49043-86e9-4ec3-8cce-bf77884a74d1",
   "metadata": {},
   "outputs": [
    {
     "name": "stdout",
     "output_type": "stream",
     "text": [
      "life is too short\n"
     ]
    }
   ],
   "source": [
    "# 문자열 띄어쓰기는 쉼표로\n",
    "print(\"life\",\"is\",\"too short\")"
   ]
  },
  {
   "cell_type": "code",
   "execution_count": 15,
   "id": "4a0b3996-6a55-488b-8f1a-8b9dcd33c1ca",
   "metadata": {},
   "outputs": [
    {
     "name": "stdout",
     "output_type": "stream",
     "text": [
      "0\n",
      "1\n",
      "2\n",
      "3\n",
      "4\n",
      "5\n",
      "6\n",
      "7\n",
      "8\n",
      "9\n"
     ]
    }
   ],
   "source": [
    "for i in range(10):\n",
    "    print(i)"
   ]
  },
  {
   "cell_type": "code",
   "execution_count": 17,
   "id": "362c1da3-4894-400f-a437-471e9f282352",
   "metadata": {},
   "outputs": [
    {
     "name": "stdout",
     "output_type": "stream",
     "text": [
      "0 1 2 3 4 5 6 7 8 9 "
     ]
    }
   ],
   "source": [
    "# 한줄에 값 출력\n",
    "for i in range(10):\n",
    "    print(i, end=' ')"
   ]
  },
  {
   "cell_type": "markdown",
   "id": "17ea8cca-10ea-4612-90ac-88e31ea84f20",
   "metadata": {},
   "source": [
    "### 2. 파일 읽고 쓰기"
   ]
  },
  {
   "cell_type": "markdown",
   "id": "faefacd0-9c59-4f6b-94d5-a64f862829d7",
   "metadata": {},
   "source": [
    "### 1) 파일 생성하기"
   ]
  },
  {
   "cell_type": "code",
   "execution_count": 18,
   "id": "dc7e20b0-7f13-42d5-a186-26ad5191ab7e",
   "metadata": {},
   "outputs": [],
   "source": [
    "f = open('newfile,txt','w')"
   ]
  },
  {
   "cell_type": "code",
   "execution_count": 19,
   "id": "ffa3a943-7ef1-4e9c-85eb-30693f457fa8",
   "metadata": {},
   "outputs": [],
   "source": [
    "f.close()"
   ]
  },
  {
   "cell_type": "code",
   "execution_count": 20,
   "id": "c870ae49-b585-46ff-ada7-912d7604def2",
   "metadata": {},
   "outputs": [],
   "source": [
    "# 특정 경로에서 파일 생성\n",
    "f= open('C:\\\\Users\\\\WD\\\\python_basic\\\\newfile2.txt','w')"
   ]
  },
  {
   "cell_type": "code",
   "execution_count": 22,
   "id": "77f367df-665c-4265-a001-66400d844320",
   "metadata": {},
   "outputs": [],
   "source": [
    "f.close()"
   ]
  },
  {
   "cell_type": "markdown",
   "id": "9eea420a-9063-4569-8916-0cc3eece5915",
   "metadata": {},
   "source": [
    "### 2) 파일을 쓰기모드로 열어서 내용 쓰기"
   ]
  },
  {
   "cell_type": "code",
   "execution_count": 23,
   "id": "6285663e-7f65-44f3-a38c-23a327cfa54a",
   "metadata": {},
   "outputs": [],
   "source": [
    "f = open('newfile.txt','w')\n",
    "for i in range(1,11):\n",
    "    data = f\"{i}번째 줄입니다.\\n\"\n",
    "    f.write(data)\n",
    "f.close()"
   ]
  },
  {
   "cell_type": "markdown",
   "id": "4ef481e7-47ac-4d70-a73e-036e4a6a6989",
   "metadata": {},
   "source": [
    "### 3) 파일을 읽는 여러가지 방법"
   ]
  },
  {
   "cell_type": "code",
   "execution_count": 25,
   "id": "1754d72a-d5fd-4399-8056-b1eaeaf452b0",
   "metadata": {},
   "outputs": [
    {
     "name": "stdout",
     "output_type": "stream",
     "text": [
      "1번째 줄입니다.\n",
      "\n"
     ]
    }
   ],
   "source": [
    "f = open('newfile.txt','r')\n",
    "line = f.readline()\n",
    "print(line)\n",
    "f.close()"
   ]
  },
  {
   "cell_type": "code",
   "execution_count": 26,
   "id": "b55a8e8f-bdb0-46f2-adf5-3a3a8733d9eb",
   "metadata": {},
   "outputs": [
    {
     "name": "stdout",
     "output_type": "stream",
     "text": [
      "1번째 줄입니다.\n",
      "\n",
      "2번째 줄입니다.\n",
      "\n",
      "3번째 줄입니다.\n",
      "\n",
      "4번째 줄입니다.\n",
      "\n",
      "5번째 줄입니다.\n",
      "\n",
      "6번째 줄입니다.\n",
      "\n",
      "7번째 줄입니다.\n",
      "\n",
      "8번째 줄입니다.\n",
      "\n",
      "9번째 줄입니다.\n",
      "\n",
      "10번째 줄입니다.\n",
      "\n"
     ]
    }
   ],
   "source": [
    "# readline 함수로 여러줄 읽기\n",
    "f = open('newfile.txt','r')\n",
    "while True:\n",
    "    line = f.readline()\n",
    "    if not line:\n",
    "        break\n",
    "    print(line)\n",
    "f.close()"
   ]
  },
  {
   "cell_type": "code",
   "execution_count": 27,
   "id": "44f6449f-1fb7-4de2-89ab-80afd6bfc860",
   "metadata": {},
   "outputs": [
    {
     "name": "stdin",
     "output_type": "stream",
     "text": [
      " abc\n"
     ]
    },
    {
     "name": "stdout",
     "output_type": "stream",
     "text": [
      "abc\n"
     ]
    },
    {
     "name": "stdin",
     "output_type": "stream",
     "text": [
      " abcccc\n"
     ]
    },
    {
     "name": "stdout",
     "output_type": "stream",
     "text": [
      "abcccc\n"
     ]
    },
    {
     "name": "stdin",
     "output_type": "stream",
     "text": [
      " acaca\n"
     ]
    },
    {
     "name": "stdout",
     "output_type": "stream",
     "text": [
      "acaca\n"
     ]
    },
    {
     "name": "stdin",
     "output_type": "stream",
     "text": [
      " dcdc\n"
     ]
    },
    {
     "name": "stdout",
     "output_type": "stream",
     "text": [
      "dcdc\n"
     ]
    },
    {
     "name": "stdin",
     "output_type": "stream",
     "text": [
      " \n"
     ]
    }
   ],
   "source": [
    "# 사용자 입력을 받아서 여러줄 출력하기\n",
    "while True:\n",
    "    data = input()\n",
    "    if not data:\n",
    "        break\n",
    "    print(data)"
   ]
  },
  {
   "cell_type": "code",
   "execution_count": 29,
   "id": "99fb3cfa-b607-46f9-bbac-af0354086baf",
   "metadata": {},
   "outputs": [
    {
     "name": "stdout",
     "output_type": "stream",
     "text": [
      "['1번째 줄입니다.\\n', '2번째 줄입니다.\\n', '3번째 줄입니다.\\n', '4번째 줄입니다.\\n', '5번째 줄입니다.\\n', '6번째 줄입니다.\\n', '7번째 줄입니다.\\n', '8번째 줄입니다.\\n', '9번째 줄입니다.\\n', '10번째 줄입니다.\\n']\n",
      "--------------------------------------------------\n",
      "1번째 줄입니다.\n",
      "\n",
      "2번째 줄입니다.\n",
      "\n",
      "3번째 줄입니다.\n",
      "\n",
      "4번째 줄입니다.\n",
      "\n",
      "5번째 줄입니다.\n",
      "\n",
      "6번째 줄입니다.\n",
      "\n",
      "7번째 줄입니다.\n",
      "\n",
      "8번째 줄입니다.\n",
      "\n",
      "9번째 줄입니다.\n",
      "\n",
      "10번째 줄입니다.\n",
      "\n"
     ]
    }
   ],
   "source": [
    "# 여러줄 읽는 readline()함수 사용하기\n",
    "f = open('newfile.txt','r')\n",
    "lines = f.readlines()\n",
    "print(lines)\n",
    "print('-'*50)\n",
    "for line in lines:\n",
    "    print(line)\n",
    "f.close()"
   ]
  },
  {
   "cell_type": "code",
   "execution_count": 31,
   "id": "1bc92280-d001-4006-b8db-033632e716be",
   "metadata": {},
   "outputs": [
    {
     "name": "stdout",
     "output_type": "stream",
     "text": [
      "1번째 줄입니다.\n",
      "2번째 줄입니다.\n",
      "3번째 줄입니다.\n",
      "4번째 줄입니다.\n",
      "5번째 줄입니다.\n",
      "6번째 줄입니다.\n",
      "7번째 줄입니다.\n",
      "8번째 줄입니다.\n",
      "9번째 줄입니다.\n",
      "10번째 줄입니다.\n"
     ]
    }
   ],
   "source": [
    "# 줄바꿈 (\\n)문자 제거하기\n",
    "f = open('newfile.txt','r')\n",
    "lines = f.readlines()\n",
    "for line in lines:\n",
    "    line =line.strip()\n",
    "    print(line)\n",
    "f.close()"
   ]
  },
  {
   "cell_type": "code",
   "execution_count": 32,
   "id": "0f068e4b-15a2-4fda-9b99-9bb8bd483275",
   "metadata": {},
   "outputs": [
    {
     "name": "stdout",
     "output_type": "stream",
     "text": [
      "1번째 줄입니다.\n",
      "2번째 줄입니다.\n",
      "3번째 줄입니다.\n",
      "4번째 줄입니다.\n",
      "5번째 줄입니다.\n",
      "6번째 줄입니다.\n",
      "7번째 줄입니다.\n",
      "8번째 줄입니다.\n",
      "9번째 줄입니다.\n",
      "10번째 줄입니다.\n",
      "\n"
     ]
    }
   ],
   "source": [
    "# read 함수로 파일 전체 내용 읽기\n",
    "f = open('newfile.txt','r')\n",
    "data = f.read()\n",
    "print(data)\n",
    "f.close()"
   ]
  },
  {
   "cell_type": "code",
   "execution_count": 33,
   "id": "7fb30cf3-579a-4de1-8575-ec36a9174ef8",
   "metadata": {},
   "outputs": [
    {
     "name": "stdout",
     "output_type": "stream",
     "text": [
      "1번째 줄입니다.\n",
      "\n",
      "2번째 줄입니다.\n",
      "\n",
      "3번째 줄입니다.\n",
      "\n",
      "4번째 줄입니다.\n",
      "\n",
      "5번째 줄입니다.\n",
      "\n",
      "6번째 줄입니다.\n",
      "\n",
      "7번째 줄입니다.\n",
      "\n",
      "8번째 줄입니다.\n",
      "\n",
      "9번째 줄입니다.\n",
      "\n",
      "10번째 줄입니다.\n",
      "\n"
     ]
    }
   ],
   "source": [
    "# 파일 객체를 for문으로 줄단위로 읽기\n",
    "f = open('newfile.txt','r')\n",
    "for line in f:\n",
    "    print(line)\n",
    "f.close()"
   ]
  },
  {
   "cell_type": "markdown",
   "id": "dd43cd2f-ed61-4eac-99a4-f08b27f7e99e",
   "metadata": {},
   "source": [
    "### 4) 파일에 새로운 내용 추가"
   ]
  },
  {
   "cell_type": "code",
   "execution_count": 34,
   "id": "428b2244-0084-4ece-b611-80aa685c7150",
   "metadata": {},
   "outputs": [],
   "source": [
    "f = open('newfile.txt','a')\n",
    "for i in range(11,20):\n",
    "    data = f\"{i}번째 줄을 추가합니다.\\n\"\n",
    "    f.write(data)\n",
    "f.close()"
   ]
  },
  {
   "cell_type": "markdown",
   "id": "4bcef0df-ec22-4bbe-b380-a89de3f29522",
   "metadata": {},
   "source": [
    "### 5) with문과 함께 사용하기"
   ]
  },
  {
   "cell_type": "code",
   "execution_count": 35,
   "id": "3f3f3bf4-f34e-42c5-a92b-50f72058070e",
   "metadata": {},
   "outputs": [],
   "source": [
    "with open('foo.txt','w') as f:\n",
    "    f.write(\"Life is too short, you need python!\")"
   ]
  },
  {
   "cell_type": "code",
   "execution_count": null,
   "id": "8e7b5008-94b4-4b64-bfea-091a7b93e4e1",
   "metadata": {},
   "outputs": [],
   "source": []
  }
 ],
 "metadata": {
  "kernelspec": {
   "display_name": "Python 3 (ipykernel)",
   "language": "python",
   "name": "python3"
  },
  "language_info": {
   "codemirror_mode": {
    "name": "ipython",
    "version": 3
   },
   "file_extension": ".py",
   "mimetype": "text/x-python",
   "name": "python",
   "nbconvert_exporter": "python",
   "pygments_lexer": "ipython3",
   "version": "3.13.5"
  }
 },
 "nbformat": 4,
 "nbformat_minor": 5
}
