{
 "cells": [
  {
   "cell_type": "code",
   "execution_count": 1,
   "id": "badbff20-d56d-4242-8fd3-3793bd10a8c0",
   "metadata": {},
   "outputs": [
    {
     "name": "stdout",
     "output_type": "stream",
     "text": [
      "1! : 1\n",
      "2! : 2\n",
      "3! : 6\n",
      "4! : 24\n",
      "5! : 120\n"
     ]
    }
   ],
   "source": [
    "def factorial (n):\n",
    "    output = 1\n",
    "    for i in range (1,n+1):\n",
    "        output *=i\n",
    "    return output\n",
    "\n",
    "print('1! :', factorial(1))\n",
    "print('2! :', factorial(2))\n",
    "print('3! :', factorial(3))\n",
    "print('4! :', factorial(4))\n",
    "print('5! :', factorial(5))"
   ]
  },
  {
   "cell_type": "code",
   "execution_count": 2,
   "id": "16823bd1-c576-4b1a-9f29-4e9824bde5c1",
   "metadata": {},
   "outputs": [
    {
     "name": "stdout",
     "output_type": "stream",
     "text": [
      "one\n",
      "two\n",
      "three\n"
     ]
    }
   ],
   "source": [
    "test_list = ['one','two','three']\n",
    "\n",
    "for i in test_list:\n",
    "    print(i)"
   ]
  },
  {
   "cell_type": "code",
   "execution_count": 3,
   "id": "aa5dc4f6-9fd2-429d-b078-efc90e3de629",
   "metadata": {},
   "outputs": [
    {
     "name": "stdout",
     "output_type": "stream",
     "text": [
      "3\n",
      "7\n",
      "11\n"
     ]
    }
   ],
   "source": [
    "a=[(1,2),(3,4),(5,6)]\n",
    "\n",
    "for (first,second) in a:\n",
    "    print(first+second)"
   ]
  },
  {
   "cell_type": "code",
   "execution_count": 6,
   "id": "ce9db5ab-4324-4cec-9191-a9b63e05f820",
   "metadata": {},
   "outputs": [
    {
     "name": "stdout",
     "output_type": "stream",
     "text": [
      "1 학생은 합격입니다.\n",
      "2 학생은 합격입니다.\n",
      "3 학생은 불합격입니다.\n",
      "4 학생은 합격입니다.\n",
      "5 학생은 불합격입니다.\n",
      "6 학생은 불합격입니다.\n"
     ]
    }
   ],
   "source": [
    "scores = [90, 75, 15, 60, 55, 45]\n",
    "num = 0\n",
    "\n",
    "for score in scores:\n",
    "    num +=1\n",
    "    if score >=60:\n",
    "        print(\"%d 학생은 합격입니다.\"%num)\n",
    "    else:\n",
    "        print(\"%d 학생은 불합격입니다.\"%num)"
   ]
  },
  {
   "cell_type": "code",
   "execution_count": 11,
   "id": "240fe6a9-7bb8-4c0a-9e10-6ce4fa97a8df",
   "metadata": {},
   "outputs": [
    {
     "name": "stdout",
     "output_type": "stream",
     "text": [
      "1 학생은 합격입니다.\n",
      "2 학생은 합격입니다.\n",
      "4 학생은 합격입니다.\n"
     ]
    }
   ],
   "source": [
    "scores = [90, 75, 15, 60, 55, 45]\n",
    "num = 0\n",
    "\n",
    "for score in scores:\n",
    "    num+=1\n",
    "    if score >= 60: \n",
    "        print(\"%d 학생은 합격입니다.\"%num)"
   ]
  },
  {
   "cell_type": "code",
   "execution_count": 12,
   "id": "3b73bd13-7897-4a37-b6ef-f3b7beaea2e8",
   "metadata": {},
   "outputs": [
    {
     "data": {
      "text/plain": [
       "range(0, 10)"
      ]
     },
     "execution_count": 12,
     "metadata": {},
     "output_type": "execute_result"
    }
   ],
   "source": [
    "a = range(10)\n",
    "a"
   ]
  },
  {
   "cell_type": "code",
   "execution_count": 14,
   "id": "07b0993c-fbdc-463f-bdca-50fd3815b0fc",
   "metadata": {},
   "outputs": [
    {
     "data": {
      "text/plain": [
       "range(0, 10)"
      ]
     },
     "execution_count": 14,
     "metadata": {},
     "output_type": "execute_result"
    }
   ],
   "source": [
    "a = range(0,10)\n",
    "a"
   ]
  },
  {
   "cell_type": "code",
   "execution_count": 15,
   "id": "ffb81de9-e951-42e9-9d6a-eb15a100f323",
   "metadata": {},
   "outputs": [
    {
     "name": "stdout",
     "output_type": "stream",
     "text": [
      "55\n"
     ]
    }
   ],
   "source": [
    "add = 0\n",
    "range(0,11)\n",
    "for i in range(1,11):\n",
    "    add = add + i\n",
    "\n",
    "print(add)"
   ]
  },
  {
   "cell_type": "code",
   "execution_count": null,
   "id": "a9d853d4-61e4-461e-916e-0bc5b604e33e",
   "metadata": {},
   "outputs": [],
   "source": []
  }
 ],
 "metadata": {
  "kernelspec": {
   "display_name": "Python 3 (ipykernel)",
   "language": "python",
   "name": "python3"
  },
  "language_info": {
   "codemirror_mode": {
    "name": "ipython",
    "version": 3
   },
   "file_extension": ".py",
   "mimetype": "text/x-python",
   "name": "python",
   "nbconvert_exporter": "python",
   "pygments_lexer": "ipython3",
   "version": "3.13.5"
  }
 },
 "nbformat": 4,
 "nbformat_minor": 5
}
