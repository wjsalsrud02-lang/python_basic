{
 "cells": [
  {
   "cell_type": "markdown",
   "id": "bf551f01-f14d-459d-9a94-d5d4643ba239",
   "metadata": {},
   "source": [
    "### abs(): 절댓값"
   ]
  },
  {
   "cell_type": "code",
   "execution_count": 1,
   "id": "d2b9672c-3d25-4bef-b19f-c8e81dcfbfd1",
   "metadata": {},
   "outputs": [
    {
     "name": "stdout",
     "output_type": "stream",
     "text": [
      "3\n",
      "3\n"
     ]
    }
   ],
   "source": [
    "print(abs(3))\n",
    "print(abs(-3))"
   ]
  },
  {
   "cell_type": "markdown",
   "id": "5765eba9-7907-41ea-9f3b-b8216b58b1ce",
   "metadata": {},
   "source": [
    "all() : 반복 가능한 데이터에서 각 요소 확인하여 모든 요소가 참이면 True"
   ]
  },
  {
   "cell_type": "code",
   "execution_count": 2,
   "id": "b5f5947d-e014-4544-a240-ff332d9755e7",
   "metadata": {},
   "outputs": [
    {
     "data": {
      "text/plain": [
       "True"
      ]
     },
     "execution_count": 2,
     "metadata": {},
     "output_type": "execute_result"
    }
   ],
   "source": [
    "all([1,2,3])"
   ]
  },
  {
   "cell_type": "code",
   "execution_count": 3,
   "id": "14fcef74-eea6-4736-9099-5fee1cf74d92",
   "metadata": {},
   "outputs": [
    {
     "data": {
      "text/plain": [
       "False"
      ]
     },
     "execution_count": 3,
     "metadata": {},
     "output_type": "execute_result"
    }
   ],
   "source": [
    "all((0,[],\"\"))"
   ]
  },
  {
   "cell_type": "code",
   "execution_count": 4,
   "id": "63841a4e-a48a-43f1-bd7e-5e78cb0e7600",
   "metadata": {},
   "outputs": [
    {
     "data": {
      "text/plain": [
       "True"
      ]
     },
     "execution_count": 4,
     "metadata": {},
     "output_type": "execute_result"
    }
   ],
   "source": [
    "all(\"\") # 빈 값인 경우"
   ]
  },
  {
   "cell_type": "markdown",
   "id": "b9db877a-e332-4b9e-8954-c4644c61c6f8",
   "metadata": {},
   "source": [
    "any() : 반복 가능한 데이터에서 각 요소에 하나라도 참이면 True"
   ]
  },
  {
   "cell_type": "code",
   "execution_count": 6,
   "id": "95864b1a-e344-43ad-924a-204a3bafc9d0",
   "metadata": {},
   "outputs": [
    {
     "data": {
      "text/plain": [
       "True"
      ]
     },
     "execution_count": 6,
     "metadata": {},
     "output_type": "execute_result"
    }
   ],
   "source": [
    "any([1,0])"
   ]
  },
  {
   "cell_type": "code",
   "execution_count": 8,
   "id": "a98d80d0-efe1-47ed-aef2-d46dea6ac87c",
   "metadata": {},
   "outputs": [
    {
     "data": {
      "text/plain": [
       "False"
      ]
     },
     "execution_count": 8,
     "metadata": {},
     "output_type": "execute_result"
    }
   ],
   "source": [
    "any([0,\"\"])"
   ]
  },
  {
   "cell_type": "code",
   "execution_count": 10,
   "id": "49c7c745-9d79-43c6-a49f-a894cfe0dc98",
   "metadata": {},
   "outputs": [
    {
     "data": {
      "text/plain": [
       "False"
      ]
     },
     "execution_count": 10,
     "metadata": {},
     "output_type": "execute_result"
    }
   ],
   "source": [
    "any([]) # 빈 값은 False"
   ]
  },
  {
   "cell_type": "raw",
   "id": "dd57ef5f-15f0-48e8-a42c-d863ba301c66",
   "metadata": {},
   "source": [
    "chr() : 유니코드 값 반환"
   ]
  },
  {
   "cell_type": "code",
   "execution_count": 11,
   "id": "8d7496c4-e187-4ddc-bf9d-5f3f2427a9ad",
   "metadata": {},
   "outputs": [
    {
     "data": {
      "text/plain": [
       "'a'"
      ]
     },
     "execution_count": 11,
     "metadata": {},
     "output_type": "execute_result"
    }
   ],
   "source": [
    "chr(97)"
   ]
  },
  {
   "cell_type": "code",
   "execution_count": 12,
   "id": "22f07ac6-19cc-4d7e-a776-53d8411fc293",
   "metadata": {},
   "outputs": [
    {
     "data": {
      "text/plain": [
       "'A'"
      ]
     },
     "execution_count": 12,
     "metadata": {},
     "output_type": "execute_result"
    }
   ],
   "source": [
    "chr(65)"
   ]
  },
  {
   "cell_type": "code",
   "execution_count": 13,
   "id": "eb0a0646-48f9-42f4-af9a-6df89d3f7f75",
   "metadata": {},
   "outputs": [
    {
     "data": {
      "text/plain": [
       "'가'"
      ]
     },
     "execution_count": 13,
     "metadata": {},
     "output_type": "execute_result"
    }
   ],
   "source": [
    "chr(44032)"
   ]
  },
  {
   "cell_type": "code",
   "execution_count": 14,
   "id": "042561f5-11ae-46c3-90c1-aec6d05474de",
   "metadata": {},
   "outputs": [
    {
     "data": {
      "text/plain": [
       "'각'"
      ]
     },
     "execution_count": 14,
     "metadata": {},
     "output_type": "execute_result"
    }
   ],
   "source": [
    "chr(44033)"
   ]
  },
  {
   "cell_type": "markdown",
   "id": "3f75e32b-0756-4711-82d2-3d4e3654f86b",
   "metadata": {},
   "source": [
    "dir() : 객체가 지닌 변수나 함수를 보여주는 함수"
   ]
  },
  {
   "cell_type": "code",
   "execution_count": 15,
   "id": "21d01197-ce80-4164-81e3-681508e6cd2c",
   "metadata": {},
   "outputs": [
    {
     "data": {
      "text/plain": [
       "['__add__',\n",
       " '__class__',\n",
       " '__class_getitem__',\n",
       " '__contains__',\n",
       " '__delattr__',\n",
       " '__delitem__',\n",
       " '__dir__',\n",
       " '__doc__',\n",
       " '__eq__',\n",
       " '__format__',\n",
       " '__ge__',\n",
       " '__getattribute__',\n",
       " '__getitem__',\n",
       " '__getstate__',\n",
       " '__gt__',\n",
       " '__hash__',\n",
       " '__iadd__',\n",
       " '__imul__',\n",
       " '__init__',\n",
       " '__init_subclass__',\n",
       " '__iter__',\n",
       " '__le__',\n",
       " '__len__',\n",
       " '__lt__',\n",
       " '__mul__',\n",
       " '__ne__',\n",
       " '__new__',\n",
       " '__reduce__',\n",
       " '__reduce_ex__',\n",
       " '__repr__',\n",
       " '__reversed__',\n",
       " '__rmul__',\n",
       " '__setattr__',\n",
       " '__setitem__',\n",
       " '__sizeof__',\n",
       " '__str__',\n",
       " '__subclasshook__',\n",
       " 'append',\n",
       " 'clear',\n",
       " 'copy',\n",
       " 'count',\n",
       " 'extend',\n",
       " 'index',\n",
       " 'insert',\n",
       " 'pop',\n",
       " 'remove',\n",
       " 'reverse',\n",
       " 'sort']"
      ]
     },
     "execution_count": 15,
     "metadata": {},
     "output_type": "execute_result"
    }
   ],
   "source": [
    "dir([1,2,3])"
   ]
  },
  {
   "cell_type": "code",
   "execution_count": 16,
   "id": "73dc2786-3ec6-4b1d-b071-40a5d718ef12",
   "metadata": {},
   "outputs": [
    {
     "data": {
      "text/plain": [
       "['__class__',\n",
       " '__class_getitem__',\n",
       " '__contains__',\n",
       " '__delattr__',\n",
       " '__delitem__',\n",
       " '__dir__',\n",
       " '__doc__',\n",
       " '__eq__',\n",
       " '__format__',\n",
       " '__ge__',\n",
       " '__getattribute__',\n",
       " '__getitem__',\n",
       " '__getstate__',\n",
       " '__gt__',\n",
       " '__hash__',\n",
       " '__init__',\n",
       " '__init_subclass__',\n",
       " '__ior__',\n",
       " '__iter__',\n",
       " '__le__',\n",
       " '__len__',\n",
       " '__lt__',\n",
       " '__ne__',\n",
       " '__new__',\n",
       " '__or__',\n",
       " '__reduce__',\n",
       " '__reduce_ex__',\n",
       " '__repr__',\n",
       " '__reversed__',\n",
       " '__ror__',\n",
       " '__setattr__',\n",
       " '__setitem__',\n",
       " '__sizeof__',\n",
       " '__str__',\n",
       " '__subclasshook__',\n",
       " 'clear',\n",
       " 'copy',\n",
       " 'fromkeys',\n",
       " 'get',\n",
       " 'items',\n",
       " 'keys',\n",
       " 'pop',\n",
       " 'popitem',\n",
       " 'setdefault',\n",
       " 'update',\n",
       " 'values']"
      ]
     },
     "execution_count": 16,
     "metadata": {},
     "output_type": "execute_result"
    }
   ],
   "source": [
    "dir({})"
   ]
  },
  {
   "cell_type": "markdown",
   "id": "8b6a0072-0211-421b-9634-d80e1dbfb930",
   "metadata": {},
   "source": [
    "divmod() : 두 수 나누기 후 몫과 나머지를 튜플로 변환"
   ]
  },
  {
   "cell_type": "code",
   "execution_count": 17,
   "id": "3584059b-9b41-4469-b995-3bf7c44e9004",
   "metadata": {},
   "outputs": [
    {
     "data": {
      "text/plain": [
       "(2, 1)"
      ]
     },
     "execution_count": 17,
     "metadata": {},
     "output_type": "execute_result"
    }
   ],
   "source": [
    "divmod(7,3)"
   ]
  },
  {
   "cell_type": "code",
   "execution_count": 18,
   "id": "85497bcb-41e1-40db-94d9-dd77a4ddc751",
   "metadata": {},
   "outputs": [
    {
     "data": {
      "text/plain": [
       "2"
      ]
     },
     "execution_count": 18,
     "metadata": {},
     "output_type": "execute_result"
    }
   ],
   "source": [
    "7//3"
   ]
  },
  {
   "cell_type": "code",
   "execution_count": 19,
   "id": "73e1fee9-72b5-431a-ad55-99ce5db202d3",
   "metadata": {},
   "outputs": [
    {
     "data": {
      "text/plain": [
       "1"
      ]
     },
     "execution_count": 19,
     "metadata": {},
     "output_type": "execute_result"
    }
   ],
   "source": [
    "7%3"
   ]
  },
  {
   "cell_type": "markdown",
   "id": "9ac772ec-478f-4e86-b686-8ee6026f2911",
   "metadata": {},
   "source": [
    "enumerate() : 순서가 있는 데이터의 인덱스 값을 포함하는 enumerate객체를 리턴"
   ]
  },
  {
   "cell_type": "code",
   "execution_count": 20,
   "id": "6a716fb0-556d-44d6-b068-c7dab511b62c",
   "metadata": {},
   "outputs": [
    {
     "name": "stdout",
     "output_type": "stream",
     "text": [
      "0 body\n",
      "1 foo\n",
      "2 bar\n"
     ]
    }
   ],
   "source": [
    "for i, name in enumerate(['body','foo','bar']):\n",
    "    print(i, name)"
   ]
  },
  {
   "cell_type": "code",
   "execution_count": 23,
   "id": "131e5944-914b-49e0-b5b9-e2ddcae1fe9d",
   "metadata": {},
   "outputs": [
    {
     "name": "stdout",
     "output_type": "stream",
     "text": [
      "0 a\n",
      "<class 'int'>\n",
      "1 b\n",
      "<class 'int'>\n",
      "2 c\n",
      "<class 'int'>\n"
     ]
    }
   ],
   "source": [
    "for i, k in enumerate ({'a':1, 'b':2, 'c':3}):\n",
    "    print(i, k)\n",
    "    print(type(i))"
   ]
  },
  {
   "cell_type": "markdown",
   "id": "5dd863fa-2f85-4ceb-b5f8-ead74d3e86ac",
   "metadata": {},
   "source": [
    "eval() : 표현식(문자열)을 실행한 결과값을 표현"
   ]
  },
  {
   "cell_type": "code",
   "execution_count": 24,
   "id": "1008ebce-11f0-4e36-b76c-014fb1692c94",
   "metadata": {},
   "outputs": [
    {
     "name": "stdout",
     "output_type": "stream",
     "text": [
      "1+2\n"
     ]
    }
   ],
   "source": [
    "print(\"1+2\")"
   ]
  },
  {
   "cell_type": "code",
   "execution_count": 25,
   "id": "2a89023f-22b4-4ca0-a395-1aa2146aa4cc",
   "metadata": {},
   "outputs": [
    {
     "name": "stdout",
     "output_type": "stream",
     "text": [
      "3\n"
     ]
    }
   ],
   "source": [
    "print(eval(\"1+2\"))"
   ]
  },
  {
   "cell_type": "markdown",
   "id": "9353a6aa-cafd-4fb1-a834-c66728f352f2",
   "metadata": {},
   "source": [
    "###### eval(\"'hi'+'a'\")"
   ]
  },
  {
   "cell_type": "markdown",
   "id": "723f3e5e-1c35-47b2-b23e-561518092974",
   "metadata": {},
   "source": [
    "filter( ):filter 엔엣 정의한 함수의 결과값"
   ]
  },
  {
   "cell_type": "code",
   "execution_count": 33,
   "id": "acae8b51-d59a-4924-930f-4cb062bbd6fd",
   "metadata": {},
   "outputs": [
    {
     "ename": "IndentationError",
     "evalue": "unindent does not match any outer indentation level (<string>, line 7)",
     "output_type": "error",
     "traceback": [
      "\u001b[1;36m  File \u001b[1;32m<string>:7\u001b[1;36m\u001b[0m\n\u001b[1;33m    return result\u001b[0m\n\u001b[1;37m                 ^\u001b[0m\n\u001b[1;31mIndentationError\u001b[0m\u001b[1;31m:\u001b[0m unindent does not match any outer indentation level\n"
     ]
    }
   ],
   "source": [
    "# 일반함수로 양수값만 리턴\n",
    "def positive(list):\n",
    "result = []\n",
    "      for i in list:\n",
    "          if i>0:\n",
    "              result.append(i)\n",
    "            \n",
    "    return result\n",
    "print(positive(-1,-3,2,0,5,-6))"
   ]
  },
  {
   "cell_type": "code",
   "execution_count": 31,
   "id": "7ff65d1f-bf45-4fc8-9348-2287028d85bf",
   "metadata": {},
   "outputs": [
    {
     "name": "stdout",
     "output_type": "stream",
     "text": [
      "<filter object at 0x000001FDDFA22C50>\n"
     ]
    }
   ],
   "source": [
    "# filter  함수로 양수값만 반환\n",
    "def positive(x):\n",
    "    return x>0\n",
    "\n",
    "print(filter(positive,[1,-3,2,0,-5,6]))"
   ]
  },
  {
   "cell_type": "code",
   "execution_count": 35,
   "id": "4619ccaf-ab1d-479f-b1fa-6fa7efde402d",
   "metadata": {},
   "outputs": [
    {
     "name": "stdout",
     "output_type": "stream",
     "text": [
      "[1, 2, 6]\n"
     ]
    }
   ],
   "source": [
    "# Filter 함수로 양수값만 변환\n",
    "def positive(x):\n",
    "    return x>0\n",
    "\n",
    "print(list(filter(positive,[1,-3,2,0,-5,6])))"
   ]
  },
  {
   "cell_type": "code",
   "execution_count": 38,
   "id": "dc70c53c-a08b-44d5-b8db-564352242e23",
   "metadata": {},
   "outputs": [
    {
     "data": {
      "text/plain": [
       "[1, 3, 2, 6]"
      ]
     },
     "execution_count": 38,
     "metadata": {},
     "output_type": "execute_result"
    }
   ],
   "source": [
    "# Lambda 함수 사용\n",
    "list(filter(lambda x: x>0, [1,3,2,0,-5,6]))"
   ]
  },
  {
   "cell_type": "markdown",
   "id": "a44f8835-843b-4f1f-89f8-224bf42dd305",
   "metadata": {},
   "source": [
    "map() : map안에서 선언한 함수의 결과값을 반환"
   ]
  },
  {
   "cell_type": "code",
   "execution_count": 39,
   "id": "c8dc6568-8e75-4f03-8196-514a25f3e369",
   "metadata": {},
   "outputs": [
    {
     "name": "stdout",
     "output_type": "stream",
     "text": [
      "[2, 4, 6, 8]\n"
     ]
    }
   ],
   "source": [
    "# 일반 함수로 리스트 각 요소에 *2\n",
    "def two_times(list):\n",
    "    result = []\n",
    "    for i in list:\n",
    "        result.append(i*2)\n",
    "    return result\n",
    "print(two_times([1,2,3,4]))"
   ]
  },
  {
   "cell_type": "code",
   "execution_count": 40,
   "id": "bcd2582e-141c-4f97-a1ca-a4d1445ac00d",
   "metadata": {},
   "outputs": [
    {
     "data": {
      "text/plain": [
       "[2, 4, 6, 8]"
      ]
     },
     "execution_count": 40,
     "metadata": {},
     "output_type": "execute_result"
    }
   ],
   "source": [
    "# map함수로 리스트 각 요소에 *2\n",
    "def two_times(x):\n",
    "    return x*2\n",
    "\n",
    "list(map(two_times, [1,2,3,4]))"
   ]
  },
  {
   "cell_type": "code",
   "execution_count": 41,
   "id": "68516631-2925-4161-96e1-249ac5fe0b19",
   "metadata": {},
   "outputs": [
    {
     "data": {
      "text/plain": [
       "[2, 4, 6, 8]"
      ]
     },
     "execution_count": 41,
     "metadata": {},
     "output_type": "execute_result"
    }
   ],
   "source": [
    "# Lambda 함수로\n",
    "list(map(lambda x: x*2, [1,2,3,4]))"
   ]
  },
  {
   "cell_type": "markdown",
   "id": "14eb751f-096d-4f41-9a9c-a9f0491d62e7",
   "metadata": {},
   "source": [
    "hex() : 정수 입력 받아 16진수로"
   ]
  },
  {
   "cell_type": "code",
   "execution_count": 42,
   "id": "ac94a85e-318e-4a24-8b70-eb16c6f99daa",
   "metadata": {},
   "outputs": [
    {
     "name": "stdout",
     "output_type": "stream",
     "text": [
      "0xea\n",
      "0x3\n",
      "0xd\n"
     ]
    }
   ],
   "source": [
    "print(hex(234))\n",
    "print(hex(3))\n",
    "print(hex(13))"
   ]
  },
  {
   "cell_type": "markdown",
   "id": "d6beafa3-b796-4172-bf64-0ab5e8c1bfed",
   "metadata": {},
   "source": [
    "id() : 객체의 주소값 확인"
   ]
  },
  {
   "cell_type": "code",
   "execution_count": 44,
   "id": "1fba5662-f455-4ffb-b2c8-e68168b8e2c8",
   "metadata": {},
   "outputs": [
    {
     "data": {
      "text/plain": [
       "140735958791144"
      ]
     },
     "execution_count": 44,
     "metadata": {},
     "output_type": "execute_result"
    }
   ],
   "source": [
    "a = 3\n",
    "id(a)"
   ]
  },
  {
   "cell_type": "markdown",
   "id": "d155db46-980b-4ef8-b307-92d066f6236e",
   "metadata": {},
   "source": [
    "isinstance() : 객체가 그 클래스의 인스턴스인지 판단"
   ]
  },
  {
   "cell_type": "code",
   "execution_count": 46,
   "id": "5caead9f-a58c-4d6d-8ddc-0ee35c6dddf2",
   "metadata": {},
   "outputs": [
    {
     "name": "stdout",
     "output_type": "stream",
     "text": [
      "True\n"
     ]
    }
   ],
   "source": [
    "class Person: pass\n",
    "\n",
    "a = Person() #a는 Person의 인스턴스\n",
    "print(isinstance(a, Person))"
   ]
  },
  {
   "cell_type": "code",
   "execution_count": 47,
   "id": "0e02d4d1-e50a-4425-b875-e84616aa5efb",
   "metadata": {},
   "outputs": [
    {
     "data": {
      "text/plain": [
       "False"
      ]
     },
     "execution_count": 47,
     "metadata": {},
     "output_type": "execute_result"
    }
   ],
   "source": [
    "b = 3\n",
    "isinstance(b, Person)"
   ]
  },
  {
   "cell_type": "markdown",
   "id": "517f07dc-b651-4a94-9190-d68df97b041a",
   "metadata": {},
   "source": [
    "max() : 최대값, min() : 최솟값"
   ]
  },
  {
   "cell_type": "code",
   "execution_count": 48,
   "id": "6b4b78e1-a033-43c9-9a10-2b85a24a4bc5",
   "metadata": {},
   "outputs": [
    {
     "name": "stdout",
     "output_type": "stream",
     "text": [
      "3\n",
      "y\n"
     ]
    }
   ],
   "source": [
    "print(max([1,2,3]))\n",
    "print(max(\"python\"))"
   ]
  },
  {
   "cell_type": "code",
   "execution_count": 49,
   "id": "4363c322-0dae-4d1a-b759-10984547a450",
   "metadata": {},
   "outputs": [
    {
     "name": "stdout",
     "output_type": "stream",
     "text": [
      "1\n",
      "h\n"
     ]
    }
   ],
   "source": [
    "print(min([1,2,3]))\n",
    "print(min(\"python\"))"
   ]
  },
  {
   "cell_type": "markdown",
   "id": "b01a41b4-6e35-4d54-81b1-ad7f6b16aa64",
   "metadata": {},
   "source": [
    "ord() : chr()반대, 문자를 전달인자로 넣으면 유니코드 반환"
   ]
  },
  {
   "cell_type": "code",
   "execution_count": 50,
   "id": "02b3fdeb-1823-45ee-9c20-10e0f82d56e7",
   "metadata": {},
   "outputs": [
    {
     "name": "stdout",
     "output_type": "stream",
     "text": [
      "97\n",
      "65\n",
      "48\n"
     ]
    }
   ],
   "source": [
    "print(ord('a'))\n",
    "print(ord('A'))\n",
    "print(ord('0'))"
   ]
  },
  {
   "cell_type": "markdown",
   "id": "bc1cba64-81c9-47a9-8de3-19a018a93f43",
   "metadata": {},
   "source": [
    "range() : 범위값을 반복 가능한 객체로 만들어 리턴"
   ]
  },
  {
   "cell_type": "code",
   "execution_count": 52,
   "id": "efd088d7-9625-42b2-9921-c1b419b42c0c",
   "metadata": {},
   "outputs": [
    {
     "data": {
      "text/plain": [
       "[0, 1, 2, 3, 4]"
      ]
     },
     "execution_count": 52,
     "metadata": {},
     "output_type": "execute_result"
    }
   ],
   "source": [
    "# 인수가 하나일 때\n",
    "list(range(5))"
   ]
  },
  {
   "cell_type": "code",
   "execution_count": 53,
   "id": "48466c0e-913a-4317-91b3-6e7baa98b3c3",
   "metadata": {},
   "outputs": [
    {
     "data": {
      "text/plain": [
       "[5, 6, 7, 8, 9]"
      ]
     },
     "execution_count": 53,
     "metadata": {},
     "output_type": "execute_result"
    }
   ],
   "source": [
    "# 인수가 두개일 때\n",
    "list(range(5,10))"
   ]
  },
  {
   "cell_type": "code",
   "execution_count": 54,
   "id": "d6a65610-9813-4b51-8e0f-26918fa08c9a",
   "metadata": {},
   "outputs": [
    {
     "data": {
      "text/plain": [
       "[1, 3, 5, 7, 9]"
      ]
     },
     "execution_count": 54,
     "metadata": {},
     "output_type": "execute_result"
    }
   ],
   "source": [
    "# 인수가 세개일 때\n",
    "list(range(1,10,2))"
   ]
  },
  {
   "cell_type": "code",
   "execution_count": 55,
   "id": "0c22bbf7-5338-46bb-9af8-091cc3c5aed2",
   "metadata": {},
   "outputs": [
    {
     "data": {
      "text/plain": [
       "[0, -1, -2, -3, -4, -5, -6, -7, -8, -9]"
      ]
     },
     "execution_count": 55,
     "metadata": {},
     "output_type": "execute_result"
    }
   ],
   "source": [
    "list(range(0,-10,-1))"
   ]
  },
  {
   "cell_type": "markdown",
   "id": "04d6dda3-fdd8-435b-9482-874dfdfcc6b8",
   "metadata": {},
   "source": [
    "sorted() : 정렬한 결과를 리스트로 반환"
   ]
  },
  {
   "cell_type": "code",
   "execution_count": 56,
   "id": "f8132a74-ccdd-4a6c-960a-de123deee909",
   "metadata": {},
   "outputs": [
    {
     "data": {
      "text/plain": [
       "[1, 2, 3]"
      ]
     },
     "execution_count": 56,
     "metadata": {},
     "output_type": "execute_result"
    }
   ],
   "source": [
    "sorted([3,1,2])"
   ]
  },
  {
   "cell_type": "code",
   "execution_count": 57,
   "id": "d865bcd0-8d66-4788-bd9b-c7e6103fbc31",
   "metadata": {},
   "outputs": [
    {
     "data": {
      "text/plain": [
       "['a', 'b', 'c']"
      ]
     },
     "execution_count": 57,
     "metadata": {},
     "output_type": "execute_result"
    }
   ],
   "source": [
    "sorted(['c','a','b'])"
   ]
  },
  {
   "cell_type": "code",
   "execution_count": 58,
   "id": "d8b5fa83-bff3-4c23-bd5d-b2af3b46a66d",
   "metadata": {},
   "outputs": [
    {
     "data": {
      "text/plain": [
       "['e', 'o', 'r', 'z']"
      ]
     },
     "execution_count": 58,
     "metadata": {},
     "output_type": "execute_result"
    }
   ],
   "source": [
    "sorted(\"zero\")"
   ]
  },
  {
   "cell_type": "markdown",
   "id": "3a253997-aca5-424c-ade7-7b39bc83b6c4",
   "metadata": {},
   "source": [
    "zip() : 동일한 개수로 이루어진 반복되는 데이터를 묶어서 리턴"
   ]
  },
  {
   "cell_type": "code",
   "execution_count": 59,
   "id": "d260d20c-37e9-481d-a3fe-cb7b3909b1f9",
   "metadata": {},
   "outputs": [
    {
     "data": {
      "text/plain": [
       "[(1, 2), (2, 3), (3, 4)]"
      ]
     },
     "execution_count": 59,
     "metadata": {},
     "output_type": "execute_result"
    }
   ],
   "source": [
    "list(zip([1,2,3],[2,3,4]))"
   ]
  },
  {
   "cell_type": "code",
   "execution_count": 60,
   "id": "551bb343-7b7c-4569-94d3-e515f2263327",
   "metadata": {},
   "outputs": [
    {
     "data": {
      "text/plain": [
       "[('a', 'd'), ('b', 'e'), ('c', 'f')]"
      ]
     },
     "execution_count": 60,
     "metadata": {},
     "output_type": "execute_result"
    }
   ],
   "source": [
    "list(zip(\"abc\",'def'))"
   ]
  },
  {
   "cell_type": "code",
   "execution_count": 61,
   "id": "0f5d526d-5944-4e2f-8ab0-2e053ae22487",
   "metadata": {},
   "outputs": [
    {
     "data": {
      "text/plain": [
       "[(1, 4), (2, 5), (3, 6)]"
      ]
     },
     "execution_count": 61,
     "metadata": {},
     "output_type": "execute_result"
    }
   ],
   "source": [
    "list(zip((1,2,3),(4,5,6)))"
   ]
  }
 ],
 "metadata": {
  "kernelspec": {
   "display_name": "Python 3 (ipykernel)",
   "language": "python",
   "name": "python3"
  },
  "language_info": {
   "codemirror_mode": {
    "name": "ipython",
    "version": 3
   },
   "file_extension": ".py",
   "mimetype": "text/x-python",
   "name": "python",
   "nbconvert_exporter": "python",
   "pygments_lexer": "ipython3",
   "version": "3.13.5"
  }
 },
 "nbformat": 4,
 "nbformat_minor": 5
}
