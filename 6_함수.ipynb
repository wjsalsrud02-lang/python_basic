{
 "cells": [
  {
   "cell_type": "markdown",
   "id": "e404a0e2-b956-4785-a6b1-a91d75b89d86",
   "metadata": {},
   "source": [
    "### 1. 파이썬 함수"
   ]
  },
  {
   "cell_type": "code",
   "execution_count": 3,
   "id": "5b3ce912-1aef-4bf1-b6d0-b1dc206e37dc",
   "metadata": {},
   "outputs": [
    {
     "name": "stdout",
     "output_type": "stream",
     "text": [
      "7\n",
      "333\n"
     ]
    }
   ],
   "source": [
    "def add(a,b):\n",
    "    return a+b\n",
    "\n",
    "a,b=3,4\n",
    "c=add(a,b)\n",
    "print(c)\n",
    "\n",
    "d=add(111,222)\n",
    "print(d)"
   ]
  },
  {
   "cell_type": "code",
   "execution_count": 5,
   "id": "7d4cb42c-13f9-4507-94b0-f1522b7368d1",
   "metadata": {},
   "outputs": [
    {
     "name": "stdout",
     "output_type": "stream",
     "text": [
      "7\n",
      "333\n"
     ]
    }
   ],
   "source": [
    "# return함수 안쓰고 결과 도출\n",
    "def add(a,b):\n",
    "    print(a+b)\n",
    "\n",
    "a,b=3,4\n",
    "c=add(a,b)\n",
    "\n",
    "d=add(111,222)"
   ]
  },
  {
   "cell_type": "code",
   "execution_count": 7,
   "id": "9b54e0c3-2d00-4bee-bcf4-11230b71bc33",
   "metadata": {},
   "outputs": [
    {
     "name": "stdout",
     "output_type": "stream",
     "text": [
      "6\n"
     ]
    }
   ],
   "source": [
    "# 1. 매개변수 0, 리턴값 \n",
    "def minus(a,b):\n",
    "    result = a-b\n",
    "    return result\n",
    "\n",
    "a = minus (10,4)\n",
    "print(a)"
   ]
  },
  {
   "cell_type": "code",
   "execution_count": 8,
   "id": "46db8ce8-dbe6-443a-a975-d5e63798e480",
   "metadata": {},
   "outputs": [
    {
     "name": "stdout",
     "output_type": "stream",
     "text": [
      "Hi!\n"
     ]
    }
   ],
   "source": [
    "# 2. 매개변수 X, 리턴값 O\n",
    "def say():\n",
    "    return 'Hi!'\n",
    "\n",
    "print(say())"
   ]
  },
  {
   "cell_type": "code",
   "execution_count": 10,
   "id": "08aaa631-e90f-4261-8a8d-557003624506",
   "metadata": {},
   "outputs": [
    {
     "name": "stdout",
     "output_type": "stream",
     "text": [
      "12,24의 합은 36입니다.\n",
      "3,4의 합은 7입니다.\n",
      "None\n"
     ]
    }
   ],
   "source": [
    "# 매개변수 O, 리턴값 X\n",
    "def add(x,y):\n",
    "    print(\"%d,%d의 합은 %d입니다.\"%(x,y,x+y))\n",
    "\n",
    "add(12,24)\n",
    "\n",
    "a = add(3,4)\n",
    "print(a)"
   ]
  },
  {
   "cell_type": "code",
   "execution_count": 11,
   "id": "ed592415-acec-4fce-b25f-759e511f79a3",
   "metadata": {},
   "outputs": [
    {
     "name": "stdout",
     "output_type": "stream",
     "text": [
      "Hi\n"
     ]
    }
   ],
   "source": [
    "# 4. 매개변수 X, 리턴값 X\n",
    "def say():\n",
    "    print('Hi')\n",
    "\n",
    "say()"
   ]
  },
  {
   "cell_type": "code",
   "execution_count": 13,
   "id": "fc2b6625-0296-46cf-a042-9ff45080bfa0",
   "metadata": {},
   "outputs": [
    {
     "name": "stdout",
     "output_type": "stream",
     "text": [
      "4\n",
      "4\n"
     ]
    }
   ],
   "source": [
    "# 키워드 매개변수\n",
    "def sub(a,b):\n",
    "    return a-b\n",
    "\n",
    "result = sub(7,3)\n",
    "print(result)\n",
    "\n",
    "result2 = sub(b=3, a=7)\n",
    "print(result2)"
   ]
  },
  {
   "cell_type": "code",
   "execution_count": 15,
   "id": "d58a6389-0b7a-41aa-ae88-86afb4d83a3e",
   "metadata": {},
   "outputs": [
    {
     "name": "stdout",
     "output_type": "stream",
     "text": [
      "15\n",
      "55\n"
     ]
    }
   ],
   "source": [
    "# 가변 매개변수 (*매개변수형)\n",
    "def add_many (*args):\n",
    "    result = 0\n",
    "    for i in args:\n",
    "        result += i\n",
    "    return result\n",
    "\n",
    "res1 = add_many(1,2,3,4,5)\n",
    "print(res1)\n",
    "\n",
    "res2 = add_many(1,2,3,4,5,6,7,8,9,10)\n",
    "print(res2)"
   ]
  },
  {
   "cell_type": "code",
   "execution_count": 23,
   "id": "d4377d87-c6d8-474b-9289-d169d83edf6a",
   "metadata": {},
   "outputs": [
    {
     "name": "stdout",
     "output_type": "stream",
     "text": [
      "6\n",
      "6\n"
     ]
    }
   ],
   "source": [
    "# 덧셈, 곱셈 둘 다 연산 가능한 함수\n",
    "def add_mul(choice, *args):\n",
    "    if choice == 'add':\n",
    "        result = 0\n",
    "        for i in args:\n",
    "            result +=i\n",
    "    elif choice == 'mul':\n",
    "        result = 0\n",
    "        for i in args:\n",
    "            result *=i\n",
    "    return result\n",
    "\n",
    "res1 = add_mul('add',1,2,3)\n",
    "print(res1)\n",
    "\n",
    "res2 = add_mul('add',1,2,3)\n",
    "print(res2)"
   ]
  },
  {
   "cell_type": "code",
   "execution_count": 25,
   "id": "ee7804b4-a865-4ec1-b20a-482ad65648b8",
   "metadata": {},
   "outputs": [
    {
     "name": "stdout",
     "output_type": "stream",
     "text": [
      "{'a': 1}\n",
      "{'name': 'foo', 'age': 3}\n"
     ]
    }
   ],
   "source": [
    "# 키워도 가변 매개변수(**매개변수)\n",
    "def print_kwargs(**kwargs):\n",
    "    print(kwargs)\n",
    "\n",
    "print_kwargs(a=1)\n",
    "\n",
    "print_kwargs(name='foo',age=3)"
   ]
  },
  {
   "cell_type": "code",
   "execution_count": 29,
   "id": "17fd1a55-1208-44a4-a815-1e97201caea0",
   "metadata": {},
   "outputs": [
    {
     "name": "stdout",
     "output_type": "stream",
     "text": [
      "(7, 12)\n",
      "a+b = 7\n",
      "a*b = 12\n"
     ]
    }
   ],
   "source": [
    "# 함수의 리턴값은 하나!!!\n",
    "def add_and_mul(a,b):\n",
    "    return a+b,a*b\n",
    "\n",
    "res=add_and_mul(3,4)\n",
    "print(res)\n",
    "\n",
    "res1, res2 = add_and_mul(3,4)\n",
    "print(\"a+b =\",res1)\n",
    "print(\"a*b =\",res2)"
   ]
  },
  {
   "cell_type": "code",
   "execution_count": 30,
   "id": "fa0c8449-5b79-4ec0-9f1b-ac3de95d7219",
   "metadata": {},
   "outputs": [
    {
     "name": "stdout",
     "output_type": "stream",
     "text": [
      "5\n"
     ]
    }
   ],
   "source": [
    "def add_and_mul(a,b):\n",
    "    return a+b\n",
    "    return a*b\n",
    "\n",
    "\n",
    "res = add_and_mul(2,3)\n",
    "print(res)"
   ]
  },
  {
   "cell_type": "code",
   "execution_count": 34,
   "id": "b8abe4dd-d629-4ab5-a09f-852077850435",
   "metadata": {},
   "outputs": [
    {
     "name": "stdout",
     "output_type": "stream",
     "text": [
      "니의 별명은 뿡치 입니다.\n"
     ]
    }
   ],
   "source": [
    "# 리턴의 또다른 쓰임새\n",
    "def say_nick(nick):\n",
    "    if nick == '바보':\n",
    "        return\n",
    "    print(\"니의 별명은 %s 입니다.\"%nick)\n",
    "\n",
    "say_nick('뿡치')"
   ]
  },
  {
   "cell_type": "code",
   "execution_count": 38,
   "id": "7ceeb360-eac0-4df6-a5f6-cf355fb5dc59",
   "metadata": {},
   "outputs": [
    {
     "name": "stdout",
     "output_type": "stream",
     "text": [
      "나의 이름은 전민경입니다.\n",
      "나이는 24살 입니다.\n",
      "여지입니다.\n"
     ]
    }
   ],
   "source": [
    "# 매개변수에 초기값 설정\n",
    "def say_myself(name, age,  man=True):\n",
    "    print(f\"나의 이름은 {name}입니다.\")\n",
    "    print(f\"나이는 {age}살 입니다.\")\n",
    "    if man:\n",
    "        print(\"남자입니다.\")\n",
    "    else:\n",
    "        print(\"여지입니다.\")\n",
    "\n",
    "say_myself('전민경', 24,False)"
   ]
  },
  {
   "cell_type": "code",
   "execution_count": 44,
   "id": "f30b65d1-8005-48b3-91e8-b9d915779848",
   "metadata": {},
   "outputs": [
    {
     "name": "stdout",
     "output_type": "stream",
     "text": [
      "1\n"
     ]
    }
   ],
   "source": [
    "# 함수의 유효범위\n",
    "a = 1\n",
    "def vartest(a):\n",
    "    a += 1\n",
    "    return a\n",
    "\n",
    "vartest(a) # 아무것도 실행 안됨\n",
    "print(a) #  밖에 있는 a출려됨"
   ]
  },
  {
   "cell_type": "code",
   "execution_count": 45,
   "id": "011dff36-0c4e-4b80-b394-140c6afac6a6",
   "metadata": {},
   "outputs": [
    {
     "name": "stdout",
     "output_type": "stream",
     "text": [
      "2\n"
     ]
    }
   ],
   "source": [
    "# 함수의 유효범위 => 1. return 사용하기\n",
    "a = 1\n",
    "def vartest(a):\n",
    "    a += 1\n",
    "    return a\n",
    "\n",
    "a=vartest(a) # 함수 실행하면 a값 반환되고 a변수에 덮어씀\n",
    "print(a) "
   ]
  },
  {
   "cell_type": "code",
   "execution_count": 46,
   "id": "371e5c2d-f1e6-4e2a-ac0b-ced386b19f36",
   "metadata": {},
   "outputs": [
    {
     "name": "stdout",
     "output_type": "stream",
     "text": [
      "1\n"
     ]
    }
   ],
   "source": [
    "# 함수의 유효범위 => 2. global 명령어 사용하기\n",
    "a =1\n",
    "def vartesst():\n",
    "    globala # 함수 안에서는 a는 전역변수로 사영됨\n",
    "    a += 1\n",
    "\n",
    "# vartest()\n",
    "print(a)"
   ]
  },
  {
   "cell_type": "code",
   "execution_count": 47,
   "id": "f540725b-3966-4505-876c-e87890b569e3",
   "metadata": {},
   "outputs": [
    {
     "name": "stdout",
     "output_type": "stream",
     "text": [
      "7\n"
     ]
    }
   ],
   "source": [
    "# lambda 표현식(예약어)\n",
    "def add(a,b):\n",
    "    return a+b\n",
    "\n",
    "print(add(3,4))"
   ]
  },
  {
   "cell_type": "code",
   "execution_count": 48,
   "id": "367f2f41-44f8-453c-8f3f-eb7a2a6640fe",
   "metadata": {},
   "outputs": [
    {
     "name": "stdout",
     "output_type": "stream",
     "text": [
      "7\n"
     ]
    }
   ],
   "source": [
    "# Lamba 표현식(예약어) 사용하여 표현\n",
    "add = lambda a,b : a+b\n",
    "print(add(3,4))"
   ]
  },
  {
   "cell_type": "markdown",
   "id": "2efc38a3-5b54-405f-bdda-50075e232e9c",
   "metadata": {},
   "source": [
    "### 2. 함수의 활용"
   ]
  },
  {
   "cell_type": "markdown",
   "id": "294d68eb-10c3-4846-a351-15e21fb13ffe",
   "metadata": {},
   "source": [
    "### 1) 재귀함수\n",
    ": 내가 만든 함수를 다시 호출하는 것"
   ]
  },
  {
   "cell_type": "code",
   "execution_count": 51,
   "id": "aab02fbd-c7bf-4799-ae92-1b650615f2c7",
   "metadata": {},
   "outputs": [
    {
     "name": "stdout",
     "output_type": "stream",
     "text": [
      "5!= 120\n"
     ]
    }
   ],
   "source": [
    "# 반복문으로 팩토리얼 구하기\n",
    "def factorial(n):\n",
    "    output = 1\n",
    "    for i in range(1,n+1):\n",
    "        output *= i\n",
    "    return output\n",
    "\n",
    "print('5!=', factorial(5))"
   ]
  },
  {
   "cell_type": "code",
   "execution_count": 53,
   "id": "2ae6bf35-8b16-4d3a-b5d9-3491bb4e5f06",
   "metadata": {},
   "outputs": [
    {
     "name": "stdout",
     "output_type": "stream",
     "text": [
      "5!= 120\n"
     ]
    }
   ],
   "source": [
    "# 재귀함수로 팩토리얼 구하기\n",
    "def factorial (n):\n",
    "    if n == 0:\n",
    "        return 1\n",
    "    else:\n",
    "        return n * factorial(n-1)\n",
    "\n",
    "print('5!=', factorial(5))"
   ]
  },
  {
   "cell_type": "markdown",
   "id": "ebd62928-359a-447a-bfa4-04c9c8024826",
   "metadata": {},
   "source": [
    "### 2) 리스트 평탄화하는 재귀함수 만들기"
   ]
  },
  {
   "cell_type": "code",
   "execution_count": 55,
   "id": "6d4fa91a-e9e3-4a22-a9b4-8bdeb8217820",
   "metadata": {},
   "outputs": [
    {
     "name": "stdout",
     "output_type": "stream",
     "text": [
      "4\n",
      "원본: [[1, 2, 3], [4, [5, 6]], 7, [8, 9]]\n",
      "평탄화: [1, 2, 3, 4, [5, 6], 7, 8, 9]\n"
     ]
    }
   ],
   "source": [
    "# 반복문으로 리스트평탄화\n",
    "def flatten(data):\n",
    "    output = []\n",
    "    for item in data:\n",
    "        if type(item) == list:\n",
    "            output += item\n",
    "        else:\n",
    "            output.append(item)\n",
    "\n",
    "    return output\n",
    "\n",
    "example = [[1,2,3],[4,[5,6]],7,[8,9]]\n",
    "print(len(example))\n",
    "print('원본:',example)\n",
    "print('평탄화:',flatten(example))"
   ]
  },
  {
   "cell_type": "code",
   "execution_count": 56,
   "id": "ff2a77ee-602c-41f1-8a82-92f622106b2a",
   "metadata": {},
   "outputs": [
    {
     "name": "stdout",
     "output_type": "stream",
     "text": [
      "4\n",
      "원본: [[1, 2, 3], [4, [5, 6]], 7, [8, 9]]\n",
      "평탄화: [1, 2, 3, 4, 5, 6, 7, 8, 9]\n"
     ]
    }
   ],
   "source": [
    "# 재귀함수로 리스트 평탄화\n",
    "def flatten(data):\n",
    "    output = []\n",
    "    for item in data:\n",
    "        if type(item) == list:\n",
    "            output += flatten(item)\n",
    "            #print(output)\n",
    "        else:\n",
    "            output.append(item)\n",
    "\n",
    "    return output\n",
    "\n",
    "example = [[1,2,3],[4,[5,6]],7,[8,9]]\n",
    "print(len(example))\n",
    "print('원본:',example)\n",
    "print('평탄화:',flatten(example))"
   ]
  },
  {
   "cell_type": "code",
   "execution_count": null,
   "id": "2c03d563-dce5-4455-9f9e-04addb07bd24",
   "metadata": {},
   "outputs": [],
   "source": []
  }
 ],
 "metadata": {
  "kernelspec": {
   "display_name": "Python 3 (ipykernel)",
   "language": "python",
   "name": "python3"
  },
  "language_info": {
   "codemirror_mode": {
    "name": "ipython",
    "version": 3
   },
   "file_extension": ".py",
   "mimetype": "text/x-python",
   "name": "python",
   "nbconvert_exporter": "python",
   "pygments_lexer": "ipython3",
   "version": "3.13.5"
  }
 },
 "nbformat": 4,
 "nbformat_minor": 5
}
